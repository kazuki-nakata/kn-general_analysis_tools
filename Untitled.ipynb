{
 "cells": [
  {
   "cell_type": "code",
   "execution_count": 18,
   "id": "e8102e11",
   "metadata": {},
   "outputs": [],
   "source": [
    "#from knool.satellite.data import read_modis\n",
    "#from knool import satellite\n",
    "from knool.satellite.data import read_modis \n",
    "#import knool.satellite as rs"
   ]
  },
  {
   "cell_type": "code",
   "execution_count": 1,
   "id": "e3324e04",
   "metadata": {},
   "outputs": [
    {
     "ename": "NameError",
     "evalue": "name 'read_modis' is not defined",
     "output_type": "error",
     "traceback": [
      "\u001b[0;31m---------------------------------------------------------------------------\u001b[0m",
      "\u001b[0;31mNameError\u001b[0m                                 Traceback (most recent call last)",
      "\u001b[1;32m/home/knakata/program/kn-general_analysis_tools/kn-general_analysis_tools/Untitled.ipynb Cell 2\u001b[0m in \u001b[0;36m<cell line: 1>\u001b[0;34m()\u001b[0m\n\u001b[0;32m----> <a href='vscode-notebook-cell://wsl%2Bubuntu-20.04/home/knakata/program/kn-general_analysis_tools/kn-general_analysis_tools/Untitled.ipynb#W1sdnNjb2RlLXJlbW90ZQ%3D%3D?line=0'>1</a>\u001b[0m read_modis\n",
      "\u001b[0;31mNameError\u001b[0m: name 'read_modis' is not defined"
     ]
    }
   ],
   "source": [
    "read_modis\n",
    "#kr.read_modis\n"
   ]
  },
  {
   "cell_type": "code",
   "execution_count": null,
   "id": "486794e7",
   "metadata": {},
   "outputs": [],
   "source": []
  }
 ],
 "metadata": {
  "kernelspec": {
   "display_name": "Python 3.10.4 ('base4')",
   "language": "python",
   "name": "python3"
  },
  "language_info": {
   "codemirror_mode": {
    "name": "ipython",
    "version": 3
   },
   "file_extension": ".py",
   "mimetype": "text/x-python",
   "name": "python",
   "nbconvert_exporter": "python",
   "pygments_lexer": "ipython3",
   "version": "3.10.4"
  },
  "vscode": {
   "interpreter": {
    "hash": "b3d8a036a58388e518fc58e3842fffe21e9c66e983ca7dfccc1ecea3c03f97f9"
   }
  }
 },
 "nbformat": 4,
 "nbformat_minor": 5
}
