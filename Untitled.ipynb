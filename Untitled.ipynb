{
 "cells": [
  {
   "cell_type": "code",
   "execution_count": 18,
   "id": "e8102e11",
   "metadata": {},
   "outputs": [],
   "source": [
    "#from knool.remote_sensing import read_modis\n",
    "#from knool import remote_sensing\n",
    "from knool.remote_sensing import read_modis \n",
    "#import knool.remote_sensing as rs"
   ]
  },
  {
   "cell_type": "code",
   "execution_count": 19,
   "id": "e3324e04",
   "metadata": {},
   "outputs": [
    {
     "data": {
      "text/plain": [
       "<module 'knool.remote_sensing.read_modis' from '/mnt/c/Users/Nakata Kazuki/Documents/プログラム/2022/kn-general_analysis_tools/kn-general_analysis_tools/knool/remote_sensing/read_modis.py'>"
      ]
     },
     "execution_count": 19,
     "metadata": {},
     "output_type": "execute_result"
    }
   ],
   "source": [
    "read_modis\n",
    "#kr.read_modis\n",
    "#remote_sensing.read_modi"
   ]
  },
  {
   "cell_type": "code",
   "execution_count": null,
   "id": "486794e7",
   "metadata": {},
   "outputs": [],
   "source": []
  }
 ],
 "metadata": {
  "kernelspec": {
   "display_name": "Python 3 (ipykernel)",
   "language": "python",
   "name": "python3"
  },
  "language_info": {
   "codemirror_mode": {
    "name": "ipython",
    "version": 3
   },
   "file_extension": ".py",
   "mimetype": "text/x-python",
   "name": "python",
   "nbconvert_exporter": "python",
   "pygments_lexer": "ipython3",
   "version": "3.9.12"
  }
 },
 "nbformat": 4,
 "nbformat_minor": 5
}
