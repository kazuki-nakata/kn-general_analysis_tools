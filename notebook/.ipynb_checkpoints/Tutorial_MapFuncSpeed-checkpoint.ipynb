{
 "cells": [
  {
   "cell_type": "code",
   "execution_count": 5,
   "id": "ce68a8dd",
   "metadata": {},
   "outputs": [],
   "source": [
    "#import test3#, test3_python, test3_python_compiled\n",
    "import sys\n",
    "import os\n",
    "sys.path.append(\"..\")\n",
    "from knool.helpers import misc\n",
    "from knool.remote_sensing import thermal_sensor_process\n",
    "import numpy as np\n",
    "import cython\n",
    "from MapFuncSpeed import calc_IST2\n",
    "# import pyximport\n",
    "# pyximport.install()\n",
    "from knool.helpers import geometry\n",
    "\n",
    "\n",
    "test=np.zeros([1000,2000],dtype=np.float32)\n",
    "test2=np.ones([1000,2000],dtype=np.float32)\n",
    "test3=np.ones([1000,2000],dtype=np.float32)\n"
   ]
  },
  {
   "cell_type": "code",
   "execution_count": 16,
   "id": "dd1db94f",
   "metadata": {
    "scrolled": true
   },
   "outputs": [
    {
     "name": "stdout",
     "output_type": "stream",
     "text": [
      "start : func name-> <function test_func at 0x7fe81d50b550>\n",
      "end : time= 0.6358227729797363\n",
      "start : func name-> <function test_func at 0x7fe854415d30>\n",
      "end : time= 0.3709752559661865\n",
      "start : func name-> <function test_func at 0x7fe811d4b5e0>\n",
      "end : time= 0.16054773330688477\n",
      "start : func name-> <function test_func at 0x7fe81d50b550>\n",
      "end : time= 0.03480720520019531\n"
     ]
    }
   ],
   "source": [
    "def calc_IST1(bt1, bt2, senz):\n",
    "    if bt1<-240:\n",
    "        val=bt1 + (bt1-bt2) + (bt1-bt2)\n",
    "    elif bt1<-120:\n",
    "        val=bt1 + (bt1-bt2) + (bt1-bt2)\n",
    "    else:\n",
    "        val=bt1 + (bt1-bt2) + (bt1-bt2)\n",
    "    return val\n",
    "\n",
    "\n",
    "# @misc.deco_print_time('start','end')\n",
    "# def test_func(test,test2,test3):\n",
    "#     width,height=test.shape\n",
    "#     test4 = np.empty(test.shape)\n",
    "#     for i in range(width):\n",
    "#         for j in range(height):\n",
    "#             test4[i,j]=calc_IST1(test[i,j],test2[i,j],test3[i,j])\n",
    "# #    test4=np.array([[test[i,j]+test2[i,j]+test3[i,j] for i in range(width)] for j in range(height)])\n",
    "#     return test4\n",
    "# test4=test_func(test,test2,test3)\n",
    "\n",
    "# @misc.deco_print_time('start','end')\n",
    "# def test_func(test,test2,test3):\n",
    "#     test_func2=np.vectorize(calc_IST1)\n",
    "#     test4=test_func2(test,test2,test3)\n",
    "#     return test4\n",
    "# test4=test_func(test,test2,test3)\n",
    "\n",
    "# @misc.deco_print_time('start','end')\n",
    "# def test_func(test,test2,test3):\n",
    "#     test5=np.array([test,test2,test3])\n",
    "#     test4=geometry.map_2D(calc_IST1,test5)\n",
    "#     return test4\n",
    "# test4=test_func(test,test2,test3)\n",
    "\n",
    "# @misc.deco_print_time('start','end')\n",
    "# def test_func(test,test2,test3):\n",
    "#     test5=np.array([test,test2,test3])\n",
    "#     test4=geometry.map_2D(calc_IST2,test5)\n",
    "#     return test4\n",
    "# test4=test_func(test,test2,test3)\n",
    "\n",
    "# @misc.deco_print_time('start','end')\n",
    "# def test_func(test,test2,test3):\n",
    "#     test4=np.where(test<-240,test + (test-test2) + (test-test2),\n",
    "#         np.where(test<-120,test + (test-test2) + (test-test2),\n",
    "#         test + (test-test2) + (test-test2)))\n",
    "#     return test4\n",
    "# test4=test_func(test,test2,test3)\n",
    "\n",
    "\n",
    "# @misc.deco_print_time('start','end')\n",
    "# def test_func(test,test2,test3,cfg2):\n",
    "#     test_func2=np.vectorize(thermal_sensor_process.calc_IST_with_split_window)\n",
    "#     test4=test_func2(test,test2,test3,cfg2)\n",
    "#     return test4\n",
    "# test4=test_func(test,test2,test3,cfg2)"
   ]
  },
  {
   "cell_type": "code",
   "execution_count": null,
   "id": "325d54a6",
   "metadata": {},
   "outputs": [],
   "source": []
  },
  {
   "cell_type": "code",
   "execution_count": null,
   "id": "d3b43096",
   "metadata": {},
   "outputs": [],
   "source": []
  }
 ],
 "metadata": {
  "kernelspec": {
   "display_name": "Python 3 (ipykernel)",
   "language": "python",
   "name": "python3"
  },
  "language_info": {
   "codemirror_mode": {
    "name": "ipython",
    "version": 3
   },
   "file_extension": ".py",
   "mimetype": "text/x-python",
   "name": "python",
   "nbconvert_exporter": "python",
   "pygments_lexer": "ipython3",
   "version": "3.9.12"
  }
 },
 "nbformat": 4,
 "nbformat_minor": 5
}
