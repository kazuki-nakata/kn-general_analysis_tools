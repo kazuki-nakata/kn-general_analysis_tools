{
 "cells": [
  {
   "cell_type": "code",
   "execution_count": 2,
   "id": "ce68a8dd",
   "metadata": {},
   "outputs": [
    {
     "ename": "ModuleNotFoundError",
     "evalue": "No module named 'misc_func'",
     "output_type": "error",
     "traceback": [
      "\u001b[0;31m---------------------------------------------------------------------------\u001b[0m",
      "\u001b[0;31mModuleNotFoundError\u001b[0m                       Traceback (most recent call last)",
      "Input \u001b[0;32mIn [2]\u001b[0m, in \u001b[0;36m<cell line: 2>\u001b[0;34m()\u001b[0m\n\u001b[1;32m      1\u001b[0m \u001b[38;5;66;03m#import test3#, test3_python, test3_python_compiled\u001b[39;00m\n\u001b[0;32m----> 2\u001b[0m \u001b[38;5;28;01mimport\u001b[39;00m \u001b[38;5;21;01mmisc_func\u001b[39;00m\n\u001b[1;32m      3\u001b[0m \u001b[38;5;28;01mimport\u001b[39;00m \u001b[38;5;21;01mthermal_sensor_process\u001b[39;00m\n\u001b[1;32m      4\u001b[0m \u001b[38;5;28;01mimport\u001b[39;00m \u001b[38;5;21;01mnumpy\u001b[39;00m \u001b[38;5;28;01mas\u001b[39;00m \u001b[38;5;21;01mnp\u001b[39;00m\n",
      "\u001b[0;31mModuleNotFoundError\u001b[0m: No module named 'misc_func'"
     ]
    }
   ],
   "source": [
    "#import test3#, test3_python, test3_python_compiled\n",
    "import misc_func\n",
    "import thermal_sensor_process\n",
    "import numpy as np\n",
    "import cython\n",
    "# import pyximport\n",
    "# pyximport.install()\n",
    "import geometry\n",
    "\n",
    "\n",
    "test=np.zeros([1000,2000],dtype=np.float32)\n",
    "test2=np.ones([1000,2000],dtype=np.float32)\n",
    "test3=np.ones([1000,2000],dtype=np.float32)\n"
   ]
  },
  {
   "cell_type": "code",
   "execution_count": 15,
   "id": "dd1db94f",
   "metadata": {
    "scrolled": true
   },
   "outputs": [
    {
     "name": "stdout",
     "output_type": "stream",
     "text": [
      "start : func name-> <function test_func at 0x7f455ffd8730>\n",
      "end : time= 0.031395673751831055\n",
      "start : func name-> <function test_func at 0x7f455ffd8bf8>\n",
      "end : time= 0.6809027194976807\n",
      "start : func name-> <function test_func at 0x7f455ffd8a60>\n",
      "end : time= 0.5444924831390381\n",
      "start : func name-> <function test_func at 0x7f455ffd87b8>\n",
      "end : time= 0.19333362579345703\n",
      "start : func name-> <function test_func at 0x7f455ffd8d90>\n",
      "end : time= 0.3322584629058838\n"
     ]
    }
   ],
   "source": [
    "def calc_IST1(bt1, bt2, senz):\n",
    "    if bt1<-240:\n",
    "        val=bt1 + (bt1-bt2) + (bt1-bt2)\n",
    "    elif bt1<-120:\n",
    "        val=bt1 + (bt1-bt2) + (bt1-bt2)\n",
    "    else:\n",
    "        val=bt1 + (bt1-bt2) + (bt1-bt2)\n",
    "    return val\n",
    "\n",
    "\n",
    "# @misc_func.deco_print_time('start','end')\n",
    "# def test_func(test,test2,test3):\n",
    "#     width,height=test.shape\n",
    "#     test4 = np.empty(test.shape)\n",
    "#     for i in range(width):\n",
    "#         for j in range(height):\n",
    "#             test4[i,j]=calc_IST1(test[i,j],test2[i,j],test3[i,j])\n",
    "# #    test4=np.array([[test[i,j]+test2[i,j]+test3[i,j] for i in range(width)] for j in range(height)])\n",
    "#     return test4\n",
    "# test4=test_func(test,test2,test3)\n",
    "\n",
    "@misc_func.deco_print_time('start','end')\n",
    "def test_func(test,test2,test3):\n",
    "    test4=np.where(test<-240,test + (test-test2) + (test-test2),\n",
    "        np.where(test<-120,test + (test-test2) + (test-test2),\n",
    "        test + (test-test2) + (test-test2)))\n",
    "    return test4\n",
    "test4=test_func(test,test2,test3)\n",
    "\n",
    "@misc_func.deco_print_time('start','end')\n",
    "def test_func(test,test2,test3):\n",
    "    test_func2=np.vectorize(calc_IST1)\n",
    "    test4=test_func2(test,test2,test3)\n",
    "    return test4\n",
    "test4=test_func(test,test2,test3)\n",
    "\n",
    "@misc_func.deco_print_time('start','end')\n",
    "def test_func(test,test2,test3):\n",
    "    test5=np.array([test,test2,test3])\n",
    "    test4=geometry.map_2D(calc_IST1,test5)\n",
    "    return test4\n",
    "test4=test_func(test,test2,test3)\n",
    "\n",
    "\n",
    "@misc_func.deco_print_time('start','end')\n",
    "def test_func(test,test2,test3):\n",
    "    test4=thermal_sensor_process.calc_IST_with_split_window2(np.array([test,test2,test3]))\n",
    "    return test4\n",
    "test4=test_func(test,test2,test3)\n",
    "\n",
    "@misc_func.deco_print_time('start','end')\n",
    "def test_func(test,test2,test3):\n",
    "    test_func2=np.vectorize(thermal_sensor_process.calc_IST1)\n",
    "    test4=test_func2(test,test2,test3)\n",
    "    return test4\n",
    "test4=test_func(test,test2,test3)"
   ]
  },
  {
   "cell_type": "code",
   "execution_count": null,
   "id": "325d54a6",
   "metadata": {},
   "outputs": [],
   "source": []
  },
  {
   "cell_type": "code",
   "execution_count": null,
   "id": "d3b43096",
   "metadata": {},
   "outputs": [],
   "source": []
  }
 ],
 "metadata": {
  "kernelspec": {
   "display_name": "Python 3 (ipykernel)",
   "language": "python",
   "name": "python3"
  },
  "language_info": {
   "codemirror_mode": {
    "name": "ipython",
    "version": 3
   },
   "file_extension": ".py",
   "mimetype": "text/x-python",
   "name": "python",
   "nbconvert_exporter": "python",
   "pygments_lexer": "ipython3",
   "version": "3.9.12"
  }
 },
 "nbformat": 4,
 "nbformat_minor": 5
}
