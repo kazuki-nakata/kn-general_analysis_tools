{
 "cells": [
  {
   "cell_type": "code",
   "execution_count": 1,
   "metadata": {},
   "outputs": [],
   "source": [
    "import sys\n",
    "import os\n",
    "sys.path.append(\"..\")\n",
    "import importlib\n",
    "from knool.remote_sensing import satellite\n",
    "from knool.geodata_processor import geo_info,geo_geom,geo_io\n",
    "import pandas as pd\n",
    "from skyfield.api import load\n",
    "from datetime import datetime as dt\n",
    "from datetime import timedelta\n",
    "from skyfield.api import utc\n",
    "import numpy as np\n",
    "from osgeo import gdal, osr, ogr"
   ]
  },
  {
   "cell_type": "code",
   "execution_count": 2,
   "metadata": {},
   "outputs": [
    {
     "name": "stderr",
     "output_type": "stream",
     "text": [
      "/mnt/c/Users/Nakata Kazuki/Documents/プログラム/2022/kn-general_analysis_tools/kn-general_analysis_tools/notebook/../knool/remote_sensing/satellite.py:112: FutureWarning: Passing method to DatetimeIndex.get_loc is deprecated and will raise in a future version. Use index.get_indexer([item], method=...) instead.\n",
      "  row1=df.loc[df.index==df.index.unique()[df.index.unique().get_loc(pd.to_datetime(mdt), method='nearest')]]\n",
      "/mnt/c/Users/Nakata Kazuki/Documents/プログラム/2022/kn-general_analysis_tools/kn-general_analysis_tools/notebook/../knool/remote_sensing/satellite.py:68: FutureWarning: Passing method to DatetimeIndex.get_loc is deprecated and will raise in a future version. Use index.get_indexer([item], method=...) instead.\n",
      "  row1=df.loc[df.index==df.index.unique()[df.index.unique().get_loc(pd.to_datetime(mdt), method='nearest')]]\n",
      "ERROR 1: TopologyException: Input geom 0 is invalid: Self-intersection at or near point -158.478269329988 50.174510826495322 0 at -158.478269329988 50.174510826495322 0\n",
      "ERROR 1: TopologyException: Input geom 0 is invalid: Self-intersection at or near point -151.18582958632376 61.86657413136637 0 at -151.18582958632376 61.86657413136637 0\n",
      "ERROR 1: TopologyException: Input geom 0 is invalid: Self-intersection at or near point 156.87957209697265 52.777926998049317 0 at 156.87957209697265 52.777926998049317 0\n"
     ]
    },
    {
     "name": "stdout",
     "output_type": "stream",
     "text": [
      "288 288 (288, 12, 2)\n"
     ]
    }
   ],
   "source": [
    "\n",
    "\n",
    "# result=test.output#[:,:,0,:]\n",
    "# print(result.shape)\n",
    "# for i,poly in enumerate(result):\n",
    "#     print(poly)\n",
    "#test.calc_scenes(\"2011-07-01 10:00:00\",\"2011-07-01 11:40:00\",5,20000,2,ori=\"middle\")\n",
    "\n"
   ]
  },
  {
   "cell_type": "code",
   "execution_count": null,
   "metadata": {},
   "outputs": [],
   "source": []
  },
  {
   "cell_type": "code",
   "execution_count": null,
   "metadata": {},
   "outputs": [],
   "source": []
  },
  {
   "cell_type": "code",
   "execution_count": 23,
   "metadata": {},
   "outputs": [
    {
     "name": "stdout",
     "output_type": "stream",
     "text": [
      "1\n"
     ]
    },
    {
     "data": {
      "text/plain": [
       "[1, 2]"
      ]
     },
     "execution_count": 23,
     "metadata": {},
     "output_type": "execute_result"
    }
   ],
   "source": []
  },
  {
   "cell_type": "code",
   "execution_count": null,
   "metadata": {},
   "outputs": [],
   "source": []
  },
  {
   "cell_type": "code",
   "execution_count": null,
   "metadata": {},
   "outputs": [],
   "source": [
    "importlib.reload(geo_info)\n",
    "importlib.reload(geo_geom)\n",
    "importlib.reload(geo_io)\n",
    "importlib.reload(satellite)\n",
    "\n",
    "infile=r\"../knool/remote_sensing/data/two_line_elements/sat27424.txt\"\n",
    "test=satellite.tles_for_asat(infile)\n",
    "test.set_period(\"2011-06-30 10:00:00\",\"2011-07-02 11:40:00\")\n",
    "#result = test.calc_scene_areas(\"2011-07-01 1:00:00\",\"2011-07-01 23:40:00\",0.5,650000,11,ori=\"right\")\n",
    "shpfile=r\"../../test_data/matchup/AOI.shp\"\n",
    "result,result2 = test.calc_intersect_scene_areas(\"2011-07-01 0:00:00\",\"2011-07-02 00:00:00\",1,1450000,6,shpfile,ori=\"right\")\n",
    "test.export(r\"../../test_data/output/test5.shp\",option=0)\n",
    "test.output=result2\n",
    "test.export(r\"../../test_data/output/test6.shp\",option=0)\n",
    "\n",
    "# result=test.output#[:,:,0,:]\n",
    "# print(result.shape)\n",
    "# for i,poly in enumerate(result):\n",
    "#     print(poly)\n",
    "#test.calc_scenes(\"2011-07-01 10:00:00\",\"2011-07-01 11:40:00\",5,20000,2,ori=\"middle\")\n"
   ]
  }
 ],
 "metadata": {
  "interpreter": {
   "hash": "790334f31a4d2b12dc852e6507079b12c63ad7e3b5b983f2779759fa8e822837"
  },
  "kernelspec": {
   "display_name": "Python 3.9.12 ('base2')",
   "language": "python",
   "name": "python3"
  },
  "language_info": {
   "codemirror_mode": {
    "name": "ipython",
    "version": 3
   },
   "file_extension": ".py",
   "mimetype": "text/x-python",
   "name": "python",
   "nbconvert_exporter": "python",
   "pygments_lexer": "ipython3",
   "version": "3.9.12"
  },
  "orig_nbformat": 4
 },
 "nbformat": 4,
 "nbformat_minor": 2
}
