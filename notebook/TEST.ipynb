{
 "cells": [
  {
   "cell_type": "code",
   "execution_count": 15,
   "metadata": {},
   "outputs": [],
   "source": [
    "import sys\n",
    "import os\n",
    "sys.path.append(\"..\")\n",
    "import importlib\n",
    "from knool.remote_sensing import satellite\n",
    "from knool.geodata_processor import geo_info,geo_geom,geo_io\n",
    "import pandas as pd\n",
    "from skyfield.api import load\n",
    "from datetime import datetime as dt\n",
    "from datetime import timedelta\n",
    "from skyfield.api import utc\n",
    "import numpy as np\n",
    "from osgeo import gdal, osr, ogr"
   ]
  },
  {
   "cell_type": "code",
   "execution_count": 108,
   "metadata": {},
   "outputs": [
    {
     "name": "stderr",
     "output_type": "stream",
     "text": [
      "/mnt/c/Users/Nakata Kazuki/Documents/プログラム/2022/kn-general_analysis_tools/kn-general_analysis_tools/notebook/../knool/remote_sensing/satellite.py:112: FutureWarning: Passing method to DatetimeIndex.get_loc is deprecated and will raise in a future version. Use index.get_indexer([item], method=...) instead.\n",
      "  row1=df.loc[df.index==df.index.unique()[df.index.unique().get_loc(pd.to_datetime(mdt), method='nearest')]]\n",
      "/mnt/c/Users/Nakata Kazuki/Documents/プログラム/2022/kn-general_analysis_tools/kn-general_analysis_tools/notebook/../knool/remote_sensing/satellite.py:68: FutureWarning: Passing method to DatetimeIndex.get_loc is deprecated and will raise in a future version. Use index.get_indexer([item], method=...) instead.\n",
      "  row1=df.loc[df.index==df.index.unique()[df.index.unique().get_loc(pd.to_datetime(mdt), method='nearest')]]\n",
      "ERROR 1: TopologyException: Input geom 0 is invalid: Self-intersection at or near point -158.478269329988 50.174510826495322 0 at -158.478269329988 50.174510826495322 0\n",
      "ERROR 1: TopologyException: Input geom 0 is invalid: Self-intersection at or near point -151.18582958632376 61.86657413136637 0 at -151.18582958632376 61.86657413136637 0\n",
      "ERROR 1: TopologyException: Input geom 0 is invalid: Self-intersection at or near point 156.87957209697265 52.777926998049317 0 at 156.87957209697265 52.777926998049317 0\n"
     ]
    },
    {
     "name": "stdout",
     "output_type": "stream",
     "text": [
      "288 288 (288, 12, 2)\n"
     ]
    }
   ],
   "source": [
    "importlib.reload(geo_info)\n",
    "importlib.reload(geo_geom)\n",
    "importlib.reload(geo_io)\n",
    "importlib.reload(satellite)\n",
    "\n",
    "infile=r\"../knool/remote_sensing/data/two_line_elements/sat27424.txt\"\n",
    "test=satellite.tles_for_asat(infile)\n",
    "test.set_period(\"2011-06-30 10:00:00\",\"2011-07-02 11:40:00\")\n",
    "#result = test.calc_scene_areas(\"2011-07-01 1:00:00\",\"2011-07-01 23:40:00\",0.5,650000,11,ori=\"right\")\n",
    "shpfile=r\"../../test_data/matchup/AOI.shp\"\n",
    "result,result2 = test.calc_intersect_scene_areas(\"2011-07-01 0:00:00\",\"2011-07-02 00:00:00\",1,1450000,6,shpfile,ori=\"right\")\n",
    "test.export(r\"../../test_data/output/test5.shp\",option=0)\n",
    "test.output=result2\n",
    "test.export(r\"../../test_data/output/test6.shp\",option=0)\n",
    "\n",
    "# result=test.output#[:,:,0,:]\n",
    "# print(result.shape)\n",
    "# for i,poly in enumerate(result):\n",
    "#     print(poly)\n",
    "#test.calc_scenes(\"2011-07-01 10:00:00\",\"2011-07-01 11:40:00\",5,20000,2,ori=\"middle\")\n",
    "\n"
   ]
  },
  {
   "cell_type": "code",
   "execution_count": 101,
   "metadata": {},
   "outputs": [
    {
     "name": "stdout",
     "output_type": "stream",
     "text": [
      "144 144 (144, 22, 2)\n"
     ]
    },
    {
     "name": "stderr",
     "output_type": "stream",
     "text": [
      "ERROR 1: TopologyException: Input geom 0 is invalid: Self-intersection at or near point -169.73969501579788 50.063126365776959 0 at -169.73969501579788 50.063126365776959 0\n",
      "ERROR 1: TopologyException: Input geom 0 is invalid: Self-intersection at or near point 168.80043293173463 52.660449582463201 0 at 168.80043293173463 52.660449582463201 0\n",
      "ERROR 1: TopologyException: Input geom 0 is invalid: Self-intersection at or near point 134.35742673357024 80.707667717367556 0 at 134.35742673357024 80.707667717367556 0\n",
      "ERROR 1: TopologyException: Input geom 0 is invalid: Self-intersection at or near point 111.85089543677037 81.675447254336888 0 at 111.85089543677037 81.675447254336888 0\n",
      "ERROR 1: TopologyException: Input geom 0 is invalid: Self-intersection at or near point -121.53719627589763 80.497079076680905 0 at -121.53719627589763 80.497079076680905 0\n",
      "ERROR 1: TopologyException: Input geom 0 is invalid: Self-intersection at or near point 102.69559104670087 80.110640071507049 0 at 102.69559104670087 80.110640071507049 0\n"
     ]
    },
    {
     "ename": "AttributeError",
     "evalue": "'numpy.ndarray' object has no attribute 'GetGeometryType'",
     "output_type": "error",
     "traceback": [
      "\u001b[0;31m---------------------------------------------------------------------------\u001b[0m",
      "\u001b[0;31mAttributeError\u001b[0m                            Traceback (most recent call last)",
      "\u001b[1;32m/home/knakata/program/kn-general_analysis_tools/kn-general_analysis_tools/notebook/TEST.ipynb Cell 3'\u001b[0m in \u001b[0;36m<cell line: 3>\u001b[0;34m()\u001b[0m\n\u001b[1;32m      <a href='vscode-notebook-cell://wsl%2Bubuntu-20.04/home/knakata/program/kn-general_analysis_tools/kn-general_analysis_tools/notebook/TEST.ipynb#ch0000002vscode-remote?line=0'>1</a>\u001b[0m shpfile\u001b[39m=\u001b[39m\u001b[39mr\u001b[39m\u001b[39m\"\u001b[39m\u001b[39m../../test_data/matchup/AOI.shp\u001b[39m\u001b[39m\"\u001b[39m\n\u001b[1;32m      <a href='vscode-notebook-cell://wsl%2Bubuntu-20.04/home/knakata/program/kn-general_analysis_tools/kn-general_analysis_tools/notebook/TEST.ipynb#ch0000002vscode-remote?line=1'>2</a>\u001b[0m result,result2 \u001b[39m=\u001b[39m test\u001b[39m.\u001b[39mcalc_intersect_scene_areas(\u001b[39m\"\u001b[39m\u001b[39m2011-07-01 0:00:00\u001b[39m\u001b[39m\"\u001b[39m,\u001b[39m\"\u001b[39m\u001b[39m2011-07-02 00:00:00\u001b[39m\u001b[39m\"\u001b[39m,\u001b[39m1\u001b[39m,\u001b[39m650000\u001b[39m,\u001b[39m11\u001b[39m,shpfile,ori\u001b[39m=\u001b[39m\u001b[39m\"\u001b[39m\u001b[39mright\u001b[39m\u001b[39m\"\u001b[39m)\n\u001b[0;32m----> <a href='vscode-notebook-cell://wsl%2Bubuntu-20.04/home/knakata/program/kn-general_analysis_tools/kn-general_analysis_tools/notebook/TEST.ipynb#ch0000002vscode-remote?line=2'>3</a>\u001b[0m test\u001b[39m.\u001b[39;49mexport(\u001b[39mr\u001b[39;49m\u001b[39m\"\u001b[39;49m\u001b[39m../../test_data/output/test5.shp\u001b[39;49m\u001b[39m\"\u001b[39;49m,option\u001b[39m=\u001b[39;49m\u001b[39m0\u001b[39;49m)\n",
      "File \u001b[0;32m/mnt/c/Users/Nakata Kazuki/Documents/プログラム/2022/kn-general_analysis_tools/kn-general_analysis_tools/notebook/../knool/remote_sensing/satellite.py:233\u001b[0m, in \u001b[0;36mtles_for_asat.export\u001b[0;34m(self, infile, option)\u001b[0m\n\u001b[1;32m    <a href='file:///mnt/c/Users/Nakata%20Kazuki/Documents/%E3%83%97%E3%83%AD%E3%82%B0%E3%83%A9%E3%83%A0/2022/kn-general_analysis_tools/kn-general_analysis_tools/notebook/../knool/remote_sensing/satellite.py?line=230'>231</a>\u001b[0m index\u001b[39m=\u001b[39moption\n\u001b[1;32m    <a href='file:///mnt/c/Users/Nakata%20Kazuki/Documents/%E3%83%97%E3%83%AD%E3%82%B0%E3%83%A9%E3%83%A0/2022/kn-general_analysis_tools/kn-general_analysis_tools/notebook/../knool/remote_sensing/satellite.py?line=231'>232</a>\u001b[0m geom_list\u001b[39m=\u001b[39m\u001b[39mself\u001b[39m\u001b[39m.\u001b[39moutput[index]\n\u001b[0;32m--> <a href='file:///mnt/c/Users/Nakata%20Kazuki/Documents/%E3%83%97%E3%83%AD%E3%82%B0%E3%83%A9%E3%83%A0/2022/kn-general_analysis_tools/kn-general_analysis_tools/notebook/../knool/remote_sensing/satellite.py?line=232'>233</a>\u001b[0m geo_io\u001b[39m.\u001b[39;49mexport_vector_from_geomList(infile,geom_list,\u001b[39mself\u001b[39;49m\u001b[39m.\u001b[39;49moutput_attribute[index])\n",
      "File \u001b[0;32m/mnt/c/Users/Nakata Kazuki/Documents/プログラム/2022/kn-general_analysis_tools/kn-general_analysis_tools/notebook/../knool/geodata_processor/geo_io.py:173\u001b[0m, in \u001b[0;36mexport_vector_from_geomList\u001b[0;34m(infile, geom_list, attr_dict, epsg)\u001b[0m\n\u001b[1;32m    <a href='file:///mnt/c/Users/Nakata%20Kazuki/Documents/%E3%83%97%E3%83%AD%E3%82%B0%E3%83%A9%E3%83%A0/2022/kn-general_analysis_tools/kn-general_analysis_tools/notebook/../knool/geodata_processor/geo_io.py?line=169'>170</a>\u001b[0m srs \u001b[39m=\u001b[39m  osr\u001b[39m.\u001b[39mSpatialReference()\n\u001b[1;32m    <a href='file:///mnt/c/Users/Nakata%20Kazuki/Documents/%E3%83%97%E3%83%AD%E3%82%B0%E3%83%A9%E3%83%A0/2022/kn-general_analysis_tools/kn-general_analysis_tools/notebook/../knool/geodata_processor/geo_io.py?line=170'>171</a>\u001b[0m srs\u001b[39m.\u001b[39mImportFromEPSG(epsg)\n\u001b[0;32m--> <a href='file:///mnt/c/Users/Nakata%20Kazuki/Documents/%E3%83%97%E3%83%AD%E3%82%B0%E3%83%A9%E3%83%A0/2022/kn-general_analysis_tools/kn-general_analysis_tools/notebook/../knool/geodata_processor/geo_io.py?line=172'>173</a>\u001b[0m layer \u001b[39m=\u001b[39m ds\u001b[39m.\u001b[39mCreateLayer(\u001b[39m\"\u001b[39m\u001b[39mlayer\u001b[39m\u001b[39m\"\u001b[39m, srs, geom_list[\u001b[39m0\u001b[39;49m]\u001b[39m.\u001b[39;49mGetGeometryType())\n\u001b[1;32m    <a href='file:///mnt/c/Users/Nakata%20Kazuki/Documents/%E3%83%97%E3%83%AD%E3%82%B0%E3%83%A9%E3%83%A0/2022/kn-general_analysis_tools/kn-general_analysis_tools/notebook/../knool/geodata_processor/geo_io.py?line=173'>174</a>\u001b[0m \u001b[39mif\u001b[39;00m attr_dict\u001b[39m==\u001b[39m\u001b[39mNone\u001b[39;00m:\n\u001b[1;32m    <a href='file:///mnt/c/Users/Nakata%20Kazuki/Documents/%E3%83%97%E3%83%AD%E3%82%B0%E3%83%A9%E3%83%A0/2022/kn-general_analysis_tools/kn-general_analysis_tools/notebook/../knool/geodata_processor/geo_io.py?line=174'>175</a>\u001b[0m     idField \u001b[39m=\u001b[39m ogr\u001b[39m.\u001b[39mFieldDefn(\u001b[39m\"\u001b[39m\u001b[39mid\u001b[39m\u001b[39m\"\u001b[39m, ogr\u001b[39m.\u001b[39mOFTInteger)\n",
      "\u001b[0;31mAttributeError\u001b[0m: 'numpy.ndarray' object has no attribute 'GetGeometryType'"
     ]
    }
   ],
   "source": [
    "shpfile=r\"../../test_data/matchup/AOI.shp\"\n",
    "result,result2 = test.calc_intersect_scene_areas(\"2011-07-01 0:00:00\",\"2011-07-02 00:00:00\",1,650000,11,shpfile,ori=\"right\")\n",
    "test.export(r\"../../test_data/output/test5.shp\",option=0)\n"
   ]
  },
  {
   "cell_type": "code",
   "execution_count": 3,
   "metadata": {},
   "outputs": [
    {
     "name": "stdout",
     "output_type": "stream",
     "text": [
      "(6, 2) (6, 2)\n",
      "(5, 2, 1, 2) (5, 2, 1, 2)\n",
      "(5, 4, 2)\n",
      "0 0 [0.1 1.1]\n",
      "0 1 [2.1 3.1]\n",
      "0 2 [2.2 3.2]\n",
      "0 3 [0.2 1.2]\n",
      "1 0 [2.1 3.1]\n",
      "1 1 [4.1 5.1]\n",
      "1 2 [4.2 5.2]\n",
      "1 3 [2.2 3.2]\n",
      "2 0 [4.1 5.1]\n",
      "2 1 [6.1 7.1]\n",
      "2 2 [6.2 7.2]\n",
      "2 3 [4.2 5.2]\n",
      "3 0 [6.1 7.1]\n",
      "3 1 [8.1 9.1]\n",
      "3 2 [8.2 9.2]\n",
      "3 3 [6.2 7.2]\n",
      "4 0 [8.1 9.1]\n",
      "4 1 [10.1 11.1]\n",
      "4 2 [10.2 11.2]\n",
      "4 3 [8.2 9.2]\n"
     ]
    }
   ],
   "source": [
    "importlib.reload(geo_geom)\n",
    "\n",
    "pinterval=2\n",
    "col_num=2\n",
    "row_num=6\n",
    "interval=2\n",
    "bit=8\n",
    "pol_num=int((row_num-1)/(interval-1))\n",
    "\n",
    "\n",
    "outlines_sub=np.arange(0.1,row_num*col_num+0.1).reshape([row_num,col_num])\n",
    "outlines_sub2=np.arange(0.2,row_num*col_num+0.2).reshape([row_num,col_num])\n",
    "print(outlines_sub.shape,outlines_sub2.shape)\n",
    "outlines_sub= np.lib.index_tricks.as_strided(outlines_sub,(row_num,interval,1,col_num),(bit*col_num*(interval-1),bit*col_num,8,8))[0:pol_num]\n",
    "outlines_sub2= np.lib.index_tricks.as_strided(outlines_sub2,(row_num,interval,1,col_num),(bit*col_num*(interval-1),bit*col_num,8,8))[0:pol_num]\n",
    "print(outlines_sub.shape,outlines_sub2.shape)\n",
    "outlines_sub3=outlines_sub2[:,::-1,:,:]\n",
    "outlines_sub=np.concatenate([outlines_sub,outlines_sub3],axis=1)[:,:,0,:]\n",
    "print(outlines_sub.shape)\n",
    "\n",
    "for i,poly in enumerate(outlines_sub):\n",
    "    for j,point in enumerate(poly):\n",
    "        print(i,j,point)\n",
    "\n",
    "test=geo_geom.create_multiPolygon(outlines_sub)\n",
    "#geo_io.export_vector_from_ogrgeom(r\"../../test_data/test.kml\",test)\n"
   ]
  },
  {
   "cell_type": "code",
   "execution_count": 23,
   "metadata": {},
   "outputs": [
    {
     "name": "stdout",
     "output_type": "stream",
     "text": [
      "1\n"
     ]
    },
    {
     "data": {
      "text/plain": [
       "[1, 2]"
      ]
     },
     "execution_count": 23,
     "metadata": {},
     "output_type": "execute_result"
    }
   ],
   "source": [
    "\n",
    "\n",
    "importlib.reload(geo_info)\n",
    "importlib.reload(geo_geom)\n",
    "importlib.reload(geo_io)\n",
    "test={\"test\":[1,2,3],\"test2\":[2,3,4]}\n",
    "print(test[\"test\"][0])\n",
    "keys=test.keys()\n",
    "[test[key][0] for i, key in enumerate(keys)]\n"
   ]
  },
  {
   "cell_type": "code",
   "execution_count": 68,
   "metadata": {},
   "outputs": [
    {
     "name": "stdout",
     "output_type": "stream",
     "text": [
      "POLYGON ((138.722134447309 55.9121700301597,144.478027702295 59.3497173907766,149.914149109783 56.631656687033,142.799225502924 52.0749078601687,138.722134447309 55.9121700301597))\n",
      "[False, False, False, False, False, False, False, False, False, False, False, False, False, False, False, False, False, False, False, False, False, False, False, False, False, False, False, False, False, False, False, False, False, False, False, False, False, False, True, False, False, False, False, False, False, False, False, False, False, False, False, False, False, False, False, False, False, False, False, False, False, False, False, False, False, False, False, False, False, False, False, False, False, False, False, False, False, False, False, False, False, False, False, False, False, False, False, False, False, False, False, False, False, False, False, False, False, False, False, False, False, False, False, False, False, False, False, False, False, False, False, False, False, False, False, False, False, False, False, False, False, False, False, False, False, False, False, False, False, False, False, False, False, False, False, False, False, False, False, False, False, False, False, False, False, False, False, False, False, False, False, False, False, False, False, False, False, False, False, False, False, False, False, False, False, False, False, False, False, False, False, False, False, False, False, False, False, False, False, False, True, False, False, False, False, False, False, False, False, False, False, False, False, False, False, False, False, False, False, False, False, False, False, False, False, False, False, False, False, False, False, False, False, False, False, False, False, False, False, False, False, False, False, False, False, False, False, False, False, False, False, False, False, False, False, False, False, False, False, False, False, False, False, False, False, False, False, False, False, False, False, False, False, False, False, False, False, False, False, False, False, False, False, False, False, False, False, False, False, False, False, False]\n"
     ]
    },
    {
     "name": "stderr",
     "output_type": "stream",
     "text": [
      "ERROR 1: TopologyException: Input geom 0 is invalid: Self-intersection at or near point 169.21091720644799 54.381921307158336 0 at 169.21091720644799 54.381921307158336 0\n"
     ]
    }
   ],
   "source": [
    "from osgeo import ogr\n",
    "vector=ogr.Open(r\"../../test_data/matchup/AOI.shp\")\n",
    "layer1=vector.GetLayer()\n",
    "geom1_list=[]\n",
    "for feat in layer1:\n",
    "    geom1_list.append(feat.GetGeometryRef().Clone())\n",
    "print(geom1_list[0])\n",
    "test=ogr.Open(r\"../../test_data/output/test4.shp\")\n",
    "layer2=test.GetLayer()\n",
    "geom2_list=[]\n",
    "for feat in layer2:\n",
    "    geom2_list.append(feat.GetGeometryRef().Clone())\n",
    "\n",
    "def find_intersect_polygons(poly1,poly2_list):\n",
    "    # bool_list = [poly1.Intersects(poly2) for poly2 in poly2_list]\n",
    "    poly2_init_intersect=poly2_list #[i for (i,v) in zip(poly2_list,bool_list) if v]    \n",
    "    poly2_intersect=[poly2.Intersection(poly1) for poly2 in poly2_init_intersect] # returns None\n",
    "    poly2_init_intersect2=[polyA for polyA,polyB in zip(poly2_init_intersect,poly2_intersect) if polyB != None and polyB.Area()>0]\n",
    "    poly2_intersect2=[poly for poly in poly2_intersect if poly != None and poly.Area()>0]\n",
    "    poly2_intersect_bool=[True if poly != None and poly.Area()>0 else False for poly in poly2_intersect]\n",
    "    print(poly2_intersect_bool)\n",
    "    return poly2_init_intersect2, poly2_intersect2\n",
    "\n",
    "#     return\n",
    "# layer1.Intersection(r\"../../test_data/output/test5.shp\",layer2)\n",
    "# print(geom1_list[0])\n",
    "for geom1 in geom1_list:\n",
    "    poly1_list,poly2_list=find_intersect_polygons(geom1,geom2_list)\n"
   ]
  },
  {
   "cell_type": "code",
   "execution_count": 80,
   "metadata": {},
   "outputs": [
    {
     "name": "stdout",
     "output_type": "stream",
     "text": [
      "{'test1': [0, 5], 'test2': [2, 5]}\n"
     ]
    }
   ],
   "source": [
    "test_dict={\"test1\":[0,1,5],\"test2\":[2,3,5]}\n",
    "test_bool=[True,False,True]\n",
    "keys=test_dict.keys()\n",
    "for key in keys:\n",
    "    test_dict[key]= [i for (i,v) in zip(test_dict[key],test_bool) if v]\n",
    "print(test_dict)"
   ]
  }
 ],
 "metadata": {
  "interpreter": {
   "hash": "790334f31a4d2b12dc852e6507079b12c63ad7e3b5b983f2779759fa8e822837"
  },
  "kernelspec": {
   "display_name": "Python 3.9.12 ('base2')",
   "language": "python",
   "name": "python3"
  },
  "language_info": {
   "codemirror_mode": {
    "name": "ipython",
    "version": 3
   },
   "file_extension": ".py",
   "mimetype": "text/x-python",
   "name": "python",
   "nbconvert_exporter": "python",
   "pygments_lexer": "ipython3",
   "version": "3.9.12"
  },
  "orig_nbformat": 4
 },
 "nbformat": 4,
 "nbformat_minor": 2
}
