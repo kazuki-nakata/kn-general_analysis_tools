{
 "cells": [
  {
   "cell_type": "code",
   "execution_count": null,
   "metadata": {},
   "outputs": [],
   "source": [
    "import sys\n",
    "import os\n",
    "sys.path.append(\"..\")\n",
    "from knool.remote_sensing.satellite import tles_for_asat\n",
    "from knool.geodata_processor import geo_info\n",
    "import pandas as pd\n",
    "from skyfield.api import load\n",
    "from datetime import datetime as dt\n",
    "from datetime import timedelta\n",
    "from skyfield.api import utc\n",
    "import numpy as np\n",
    "from osgeo import gdal, osr, ogr"
   ]
  },
  {
   "cell_type": "code",
   "execution_count": 1,
   "metadata": {},
   "outputs": [
    {
     "ename": "NameError",
     "evalue": "name 'tles_for_asat' is not defined",
     "output_type": "error",
     "traceback": [
      "\u001b[1;31m---------------------------------------------------------------------------\u001b[0m",
      "\u001b[1;31mNameError\u001b[0m                                 Traceback (most recent call last)",
      "\u001b[1;32mc:\\Users\\knaka\\Documents\\program\\kn-general_analysis_tools\\notebook\\TEST.ipynb Cell 2'\u001b[0m in \u001b[0;36m<cell line: 3>\u001b[1;34m()\u001b[0m\n\u001b[0;32m      <a href='vscode-notebook-cell:/c%3A/Users/knaka/Documents/program/kn-general_analysis_tools/notebook/TEST.ipynb#ch0000001?line=0'>1</a>\u001b[0m \u001b[39m#create a kml file of a orbit line\u001b[39;00m\n\u001b[0;32m      <a href='vscode-notebook-cell:/c%3A/Users/knaka/Documents/program/kn-general_analysis_tools/notebook/TEST.ipynb#ch0000001?line=1'>2</a>\u001b[0m infile\u001b[39m=\u001b[39m\u001b[39mr\u001b[39m\u001b[39m\"\u001b[39m\u001b[39m../knool/remote_sensing/data/two_line_elements/sat27424.txt\u001b[39m\u001b[39m\"\u001b[39m\n\u001b[1;32m----> <a href='vscode-notebook-cell:/c%3A/Users/knaka/Documents/program/kn-general_analysis_tools/notebook/TEST.ipynb#ch0000001?line=2'>3</a>\u001b[0m test\u001b[39m=\u001b[39mtles_for_asat(infile)\n\u001b[0;32m      <a href='vscode-notebook-cell:/c%3A/Users/knaka/Documents/program/kn-general_analysis_tools/notebook/TEST.ipynb#ch0000001?line=3'>4</a>\u001b[0m test\u001b[39m.\u001b[39mset_period(\u001b[39m\"\u001b[39m\u001b[39m2011-06-30 10:00:00\u001b[39m\u001b[39m\"\u001b[39m,\u001b[39m\"\u001b[39m\u001b[39m2011-07-02 11:40:00\u001b[39m\u001b[39m\"\u001b[39m)\n\u001b[0;32m      <a href='vscode-notebook-cell:/c%3A/Users/knaka/Documents/program/kn-general_analysis_tools/notebook/TEST.ipynb#ch0000001?line=4'>5</a>\u001b[0m test\u001b[39m.\u001b[39mcalc_positions_between(\u001b[39m\"\u001b[39m\u001b[39m2011-07-01 10:00:00\u001b[39m\u001b[39m\"\u001b[39m,\u001b[39m\"\u001b[39m\u001b[39m2011-07-01 11:40:00\u001b[39m\u001b[39m\"\u001b[39m,\u001b[39m1\u001b[39m)\n",
      "\u001b[1;31mNameError\u001b[0m: name 'tles_for_asat' is not defined"
     ]
    }
   ],
   "source": [
    "#create a kml file of a orbit line\n",
    "infile=r\"../knool/remote_sensing/data/two_line_elements/sat27424.txt\"\n",
    "test=tles_for_asat(infile)\n",
    "test.set_period(\"2011-06-30 10:00:00\",\"2011-07-02 11:40:00\")\n",
    "test.calc_positions_between(\"2011-07-01 10:00:00\",\"2011-07-01 11:40:00\",1)\n",
    "test.export(\"../../test_data/output/test.kml\")"
   ]
  }
 ],
 "metadata": {
  "interpreter": {
   "hash": "c35be07b07734e6c693c362f4032212f4bde33966ce6fdeb82576f54a270707a"
  },
  "kernelspec": {
   "display_name": "Python 3.9.12 ('main')",
   "language": "python",
   "name": "python3"
  },
  "language_info": {
   "codemirror_mode": {
    "name": "ipython",
    "version": 3
   },
   "file_extension": ".py",
   "mimetype": "text/x-python",
   "name": "python",
   "nbconvert_exporter": "python",
   "pygments_lexer": "ipython3",
   "version": "3.9.12"
  },
  "orig_nbformat": 4
 },
 "nbformat": 4,
 "nbformat_minor": 2
}
