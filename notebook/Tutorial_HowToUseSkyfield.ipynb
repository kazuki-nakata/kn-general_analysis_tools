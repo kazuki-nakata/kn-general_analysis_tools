{
 "cells": [
  {
   "cell_type": "code",
   "execution_count": 1,
   "id": "a0cb8c31",
   "metadata": {},
   "outputs": [],
   "source": [
    "import sys\n",
    "import os\n",
    "sys.path.append(\"..\")\n",
    "from knool.remote_sensing.satellite import tles_for_asat\n",
    "from knool.geodata_processor import geo_info\n",
    "import pandas as pd\n",
    "from skyfield.api import load\n",
    "from datetime import datetime as dt\n",
    "from datetime import timedelta\n",
    "from skyfield.api import utc\n",
    "import numpy as np\n",
    "from osgeo import gdal, osr, ogr"
   ]
  },
  {
   "cell_type": "code",
   "execution_count": 2,
   "id": "c27b201f",
   "metadata": {
    "scrolled": true
   },
   "outputs": [
    {
     "name": "stdout",
     "output_type": "stream",
     "text": [
      "衛星名:  None\n",
      "元期:  A.D. 2015-Jun-23 03:50:23.3849 UTC\n",
      "衛星番号:  40697\n",
      "エポック年:  15\n",
      "エポック日:  174.15999288\n",
      "エポックのユリウス日:  2457196.5\n",
      "ndot:  -1.333237623051224e-12\n",
      "nddot:  0.0\n",
      "弾道抗力係数 B*:  0.0\n",
      "軌道傾斜角[rad]:  1.7206276070908537\n",
      "昇交点赤経[rad]:  4.337586504835915\n",
      "離心率:  7.98e-05\n",
      "近地点引数[rad]:  4.953066393576204\n",
      "平均近点角[rad]:  2.5043519997356394\n",
      "平均運動[rad/min]:  0.06244205289471824\n"
     ]
    }
   ],
   "source": [
    "##READ tle file. https://qiita.com/grinpeaceman/items/22f06714a98dbfacce88\n",
    "\n",
    "tles = load.tle_file(\"../knool/remote_sensing/data/two_line_elements/sat40697.txt\") # TLE読み込み\n",
    "satellite=tles[0]\n",
    "sgp4_model = satellite.model\n",
    "\n",
    "print(\"衛星名: \", satellite.name)\n",
    "print(\"元期: \", satellite.epoch.utc_jpl())\n",
    "print(\"衛星番号: \", sgp4_model.satnum)\n",
    "print(\"エポック年: \", sgp4_model.epochyr)\n",
    "print(\"エポック日: \", sgp4_model.epochdays)\n",
    "print(\"エポックのユリウス日: \", sgp4_model.jdsatepoch)\n",
    "print(\"ndot: \", sgp4_model.ndot)\n",
    "print(\"nddot: \", sgp4_model.nddot)\n",
    "print(\"弾道抗力係数 B*: \", sgp4_model.bstar)\n",
    "print(\"軌道傾斜角[rad]: \", sgp4_model.inclo)\n",
    "print(\"昇交点赤経[rad]: \", sgp4_model.nodeo)\n",
    "print(\"離心率: \", sgp4_model.ecco)\n",
    "print(\"近地点引数[rad]: \", sgp4_model.argpo)\n",
    "print(\"平均近点角[rad]: \", sgp4_model.mo)\n",
    "print(\"平均運動[rad/min]: \", sgp4_model.no_kozai)"
   ]
  },
  {
   "cell_type": "code",
   "execution_count": 3,
   "id": "061c5ecc",
   "metadata": {},
   "outputs": [
    {
     "name": "stdout",
     "output_type": "stream",
     "text": [
      "[-0.00141461  0.00399833  0.00070632] au/day\n",
      "[-9.51255273e-06  4.88624241e-06 -4.67440961e-05] au\n",
      "[-9.51255273e-06  4.88624241e-06 -4.67440961e-05] au\n",
      "-77.27650275778588 -162.68188667619506 815689.5183005581\n"
     ]
    }
   ],
   "source": [
    "#get lat,lon,elevation from a tle\n",
    "ts = load.timescale()  # skyfiled上で時刻を扱うモジュール\n",
    "tle=tles[0]\n",
    "date1 = dt(2018, 2, 1, 12, 15, 30, 2000, tzinfo=utc)\n",
    "date1_sf=ts.from_datetime(date1)\n",
    "\n",
    "geocentric=tle.at(date1_sf) #get xyz\n",
    "subpoint = geocentric.subpoint()\n",
    "lat = subpoint.latitude.degrees\n",
    "lon = subpoint.longitude.degrees\n",
    "ele = subpoint.elevation.m\n",
    "print(geocentric.velocity)\n",
    "print(geocentric.position)\n",
    "print(geocentric.xyz)\n",
    "print(lat,lon,ele)"
   ]
  },
  {
   "cell_type": "code",
   "execution_count": 4,
   "id": "dfc6af69",
   "metadata": {
    "scrolled": true
   },
   "outputs": [
    {
     "name": "stdout",
     "output_type": "stream",
     "text": [
      "-77.27650275778588 -162.68188667619506 815689.5183005581\n",
      "-1516878.3505331383 -472981.10875354544 -6995304.199162432\n",
      "-77.2765027607371 -162.68188667619506 815689.519945832\n"
     ]
    }
   ],
   "source": [
    "#convert lla/ecef from ecef/lla using our package.\n",
    "print(lat,lon,ele)\n",
    "x,y,z=geo_info.convert_lla_to_ecef(lat,lon,ele)\n",
    "print(x,y,z) # meter\n",
    "lat,lon,ele=geo_info.convert_ecef_to_lla(x,y,z)\n",
    "print(lat,lon,ele)"
   ]
  },
  {
   "cell_type": "code",
   "execution_count": 5,
   "id": "c9263bcf",
   "metadata": {},
   "outputs": [
    {
     "name": "stderr",
     "output_type": "stream",
     "text": [
      "c:\\Users\\knaka\\Documents\\program\\kn-general_analysis_tools\\notebook\\..\\knool\\remote_sensing\\satellite.py:40: FutureWarning: Passing method to DatetimeIndex.get_loc is deprecated and will raise in a future version. Use index.get_indexer([item], method=...) instead.\n",
      "  row1=df.loc[df.index==df.index.unique()[df.index.unique().get_loc(pd.to_datetime(date), method='nearest')]]\n"
     ]
    }
   ],
   "source": [
    "#create a kml file of a orbit line\n",
    "infile=r\"../knool/remote_sensing/data/two_line_elements/sat27424.txt\"\n",
    "test=tles_for_asat(infile)\n",
    "test.set_period(\"2011-06-30 10:00:00\",\"2011-07-02 11:40:00\")\n",
    "test.calc_positions_between(5\"2011-07-01 10:00:00\",\"2011-07-01 11:40:00\",1)\n",
    "test.export(\"../../test_data/output/test.kml\")"
   ]
  },
  {
   "cell_type": "code",
   "execution_count": 6,
   "id": "3f1a67e9",
   "metadata": {},
   "outputs": [
    {
     "name": "stderr",
     "output_type": "stream",
     "text": [
      "c:\\Users\\knaka\\Documents\\program\\kn-general_analysis_tools\\notebook\\..\\knool\\remote_sensing\\satellite.py:65: FutureWarning: Passing method to DatetimeIndex.get_loc is deprecated and will raise in a future version. Use index.get_indexer([item], method=...) instead.\n",
      "  row1=df.loc[df.index==df.index.unique()[df.index.unique().get_loc(pd.to_datetime(mdt), method='nearest')]]\n"
     ]
    }
   ],
   "source": [
    "#create a kml file of a orbit line\n",
    "test.calc_positions_faster_between(\"2011-07-01 10:00:00\",\"2011-07-01 11:40:00\",1)\n",
    "test.export(\"../../test_data/output/test2.kml\")"
   ]
  },
  {
   "cell_type": "code",
   "execution_count": 7,
   "id": "6c70cf85",
   "metadata": {
    "scrolled": true
   },
   "outputs": [
    {
     "name": "stderr",
     "output_type": "stream",
     "text": [
      "c:\\Users\\knaka\\Documents\\program\\kn-general_analysis_tools\\notebook\\..\\knool\\remote_sensing\\satellite.py:104: FutureWarning: Passing method to DatetimeIndex.get_loc is deprecated and will raise in a future version. Use index.get_indexer([item], method=...) instead.\n",
      "  row1=df.loc[df.index==df.index.unique()[df.index.unique().get_loc(pd.to_datetime(mdt), method='nearest')]]\n"
     ]
    }
   ],
   "source": [
    "#Creates a kml file of a polygon\n",
    "test.calc_buff_area_between(\"2011-07-01 10:00:00\",\"2011-07-01 11:00:00\",1,1000000,ori=\"right\")\n",
    "test.export(\"../../test_data/output/test3.kml\")"
   ]
  },
  {
   "cell_type": "code",
   "execution_count": null,
   "id": "dfee04fb",
   "metadata": {
    "scrolled": true
   },
   "outputs": [],
   "source": [
    "from datetime import datetime, timedelta, timezone\n",
    "\n",
    "from skyfield.api import load, Topos\n",
    "\n",
    "\n",
    "satellite = load.tle_file(\"./aqua.txt\")[0]  # TLE読み込み\n",
    "\n",
    "ts = load.timescale()  # タイムスケールを生成\n",
    "\n",
    "# 観測地点(東京タワー)の位置情報を設定\n",
    "tokyo_tower_pos = Topos(\n",
    "    latitude_degrees=35.66, longitude_degrees=139.75, elevation_m=333\n",
    ")\n",
    "\n",
    "start = datetime.now(timezone.utc)\n",
    "end = start + timedelta(days=1)\n",
    "\n",
    "# 24時間以内に観測点(東京タワー)から衛星が見える時間を計算(仰角5度以上)\n",
    "# パス開始時刻、最大仰角時刻、パス終了時刻の情報が取得できる\n",
    "t, events = satellite.find_events(\n",
    "    tokyo_tower_pos, ts.utc(start), ts.utc(end), altitude_degrees=5.0\n",
    ")\n",
    "\n",
    "difference = satellite - tokyo_tower_pos\n",
    "for ti, event in zip(t, events):\n",
    "    name = (\"パス開始: \", \"最大仰角: \", \"パス終了: \")[event]\n",
    "    print(name, ti.utc_strftime(\"[UTC] %Y %b %d %H:%M:%S\"))\n",
    "    if event == 1:\n",
    "        topocentric = difference.at(ti)\n",
    "        alt, _, _ = topocentric.altaz()  # 観測点から観た衛星の仰角を取得\n",
    "        print(\"最大仰角[degree]: \", alt.degrees)\n",
    "    if event == 2:\n",
    "        print()"
   ]
  },
  {
   "cell_type": "code",
   "execution_count": null,
   "id": "6e5cd309",
   "metadata": {},
   "outputs": [],
   "source": []
  },
  {
   "cell_type": "code",
   "execution_count": null,
   "id": "37b0a7ca",
   "metadata": {},
   "outputs": [],
   "source": []
  },
  {
   "cell_type": "code",
   "execution_count": null,
   "id": "f247547a",
   "metadata": {},
   "outputs": [],
   "source": []
  }
 ],
 "metadata": {
  "interpreter": {
   "hash": "c35be07b07734e6c693c362f4032212f4bde33966ce6fdeb82576f54a270707a"
  },
  "kernelspec": {
   "display_name": "Python 3.9.12 ('main')",
   "language": "python",
   "name": "python3"
  },
  "language_info": {
   "codemirror_mode": {
    "name": "ipython",
    "version": 3
   },
   "file_extension": ".py",
   "mimetype": "text/x-python",
   "name": "python",
   "nbconvert_exporter": "python",
   "pygments_lexer": "ipython3",
   "version": "3.9.12"
  }
 },
 "nbformat": 4,
 "nbformat_minor": 5
}
