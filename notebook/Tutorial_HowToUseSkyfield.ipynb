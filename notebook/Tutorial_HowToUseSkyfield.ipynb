{
 "cells": [
  {
   "cell_type": "code",
   "execution_count": 1,
   "id": "a0cb8c31",
   "metadata": {},
   "outputs": [],
   "source": [
    "import sys\n",
    "import os\n",
    "sys.path.append(\"..\")\n",
    "from knool.satellite.data.satellite import TLEsPerSat\n",
    "from knool.geodata import geo_info,geo_geom,geo_io\n",
    "import pandas as pd\n",
    "from skyfield.api import load\n",
    "from datetime import datetime as dt\n",
    "from datetime import timedelta\n",
    "from skyfield.api import utc\n",
    "import numpy as np\n",
    "from osgeo import gdal, osr, ogr\n",
    "import importlib"
   ]
  },
  {
   "cell_type": "code",
   "execution_count": 2,
   "id": "c27b201f",
   "metadata": {
    "scrolled": true
   },
   "outputs": [
    {
     "name": "stdout",
     "output_type": "stream",
     "text": [
      "衛星名:  None\n",
      "元期:  CalendarTuple(year=2015, month=9, day=21, hour=22, minute=19, second=19.809722900390625)\n",
      "衛星番号:  38337\n",
      "エポック年:  15\n",
      "エポック日:  264.93009039\n",
      "エポックのユリウス日:  2457286.5\n",
      "ndot:  6.7570906804641574e-12\n",
      "nddot:  0.0\n",
      "弾道抗力係数 B*:  5.9498e-05\n",
      "軌道傾斜角[degree]:  98.25140927731319\n",
      "昇交点赤経[degree]:  203.37620306765075\n",
      "離心率:  0.0001257\n",
      "近地点引数[rad]:  1.1657612579430765\n",
      "平均近点角[rad]:  5.846975167228644\n",
      "平均運動[rad/min]:  0.06357998806296415\n"
     ]
    }
   ],
   "source": [
    "#HOW_TO_USE_SKYFIELD\n",
    "##READ https://qiita.com/grinpeaceman/items/22f06714a98dbfacce88\n",
    "\n",
    "tles = load.tle_file(r\"../knool/satellite/data/data/two_line_elements/sat40697.txt\") # TLE読み込み\n",
    "tles = load.tle_file(r\"../knool/satellite/data/data/two_line_elements/sat38337.txt\") # TLE読み込み\n",
    "satellite=tles[1354]\n",
    "sgp4_model = satellite.model\n",
    "\n",
    "print(\"衛星名: \", satellite.name)\n",
    "print(\"元期: \", satellite.epoch.utc)#_jpl())\n",
    "print(\"衛星番号: \", sgp4_model.satnum)\n",
    "print(\"エポック年: \", sgp4_model.epochyr)\n",
    "print(\"エポック日: \", sgp4_model.epochdays)\n",
    "print(\"エポックのユリウス日: \", sgp4_model.jdsatepoch)\n",
    "print(\"ndot: \", sgp4_model.ndot)\n",
    "print(\"nddot: \", sgp4_model.nddot)\n",
    "print(\"弾道抗力係数 B*: \", sgp4_model.bstar)\n",
    "print(\"軌道傾斜角[degree]: \", sgp4_model.inclo*180/3.14)\n",
    "print(\"昇交点赤経[degree]: \", sgp4_model.nodeo*180/3.14)\n",
    "print(\"離心率: \", sgp4_model.ecco)\n",
    "print(\"近地点引数[rad]: \", sgp4_model.argpo)\n",
    "print(\"平均近点角[rad]: \", sgp4_model.mo)\n",
    "print(\"平均運動[rad/min]: \", sgp4_model.no_kozai)"
   ]
  },
  {
   "cell_type": "code",
   "execution_count": 3,
   "id": "061c5ecc",
   "metadata": {},
   "outputs": [
    {
     "name": "stdout",
     "output_type": "stream",
     "text": [
      "[-0.00358946  0.00198662  0.00146756] au/day\n",
      "[ 1.02781862e-05 -1.37594739e-05  4.37801473e-05] au\n",
      "[ 1.02781862e-05 -1.37594739e-05  4.37801473e-05] au\n",
      "68.75920171845111 -8.743172725379656 675763.1245518889\n"
     ]
    }
   ],
   "source": [
    "#HOW_TO_USE_SKYFIELD\n",
    "##READ https://qiita.com/grinpeaceman/items/22f06714a98dbfacce88\n",
    "\n",
    "#get lat,lon,elevation from a tle\n",
    "ts = load.timescale()  # skyfiled上で時刻を扱うモジュール\n",
    "tle=tles[0]\n",
    "date1 = dt(2018, 2, 1, 12, 15, 30, 2000, tzinfo=utc)\n",
    "date1_sf=ts.from_datetime(date1)\n",
    "\n",
    "geocentric=tle.at(date1_sf) #get xyz\n",
    "subpoint = geocentric.subpoint()\n",
    "lat = subpoint.latitude.degrees\n",
    "lon = subpoint.longitude.degrees\n",
    "ele = subpoint.elevation.m\n",
    "print(geocentric.velocity)\n",
    "print(geocentric.position)\n",
    "print(geocentric.xyz)\n",
    "print(lat,lon,ele)"
   ]
  },
  {
   "cell_type": "code",
   "execution_count": 4,
   "id": "dfc6af69",
   "metadata": {
    "scrolled": true
   },
   "outputs": [
    {
     "name": "stdout",
     "output_type": "stream",
     "text": [
      "68.75920171845111 -8.743172725379656 675763.1245518889\n",
      "2532519.7660571965 -389483.15910038026 6552150.204388009\n",
      "68.75920172679525 -8.74317272537966 675763.1271996461\n"
     ]
    }
   ],
   "source": [
    "#convert lla/ecef from ecef/lla using our package.\n",
    "print(lat,lon,ele)\n",
    "x,y,z=geo_info.transform_lla_to_ecef(lat,lon,ele)\n",
    "print(x,y,z) # meter\n",
    "lat,lon,ele=geo_info.transform_ecef_to_lla(x,y,z)\n",
    "print(lat,lon,ele)"
   ]
  },
  {
   "cell_type": "code",
   "execution_count": 7,
   "id": "c9263bcf",
   "metadata": {},
   "outputs": [
    {
     "name": "stdout",
     "output_type": "stream",
     "text": [
      "2015-09-22 00:58:00+00:00\n",
      "2015-09-22 01:01:00+00:00\n",
      "2015-09-22 01:04:00+00:00\n",
      "2015-09-22 01:07:00+00:00\n",
      "2015-09-22 01:10:00+00:00\n",
      "2015-09-22 01:13:00+00:00\n",
      "2015-09-22 01:16:00+00:00\n",
      "2015-09-22 01:19:00+00:00\n",
      "2015-09-22 01:22:00+00:00\n",
      "2015-09-22 01:25:00+00:00\n",
      "2015-09-22 01:28:00+00:00\n",
      "2015-09-22 01:31:00+00:00\n",
      "2015-09-22 01:34:00+00:00\n",
      "2015-09-22 01:37:00+00:00\n",
      "2015-09-22 01:40:00+00:00\n"
     ]
    }
   ],
   "source": [
    "#create a kml file of a orbit line\n",
    "infile=r\"../knool/satellite/data/data/two_line_elements/sat38337.txt\"\n",
    "test=TLEsPerSat(infile)\n",
    "\n",
    "sdate=dt.strptime(\"2015-09-21 00:00:00\",'%Y-%m-%d %H:%M:%S')\n",
    "edate=dt.strptime(\"2015-09-23 11:40:00\",'%Y-%m-%d %H:%M:%S')\n",
    "test.set_period(sdate, edate) # for faster computation\n",
    "# test.calc_positions_between(\"2015-09-22 00:58:00\",\"2015-09-22 01:40:00\",10)\n",
    "\n",
    "sdate=dt.strptime(\"2015-09-22 00:58:00\",'%Y-%m-%d %H:%M:%S')\n",
    "edate=dt.strptime(\"2015-09-22 01:40:00\",'%Y-%m-%d %H:%M:%S')\n",
    "test.calc_positions_between(sdate,edate,3)\n",
    "test.export(\"../../test_data/output/test.kml\")\n",
    "\n",
    "# fdate=sdate\n",
    "# ldate=edate\n",
    "# interval=10\n",
    "# ds_date = pd.date_range(start=fdate, end=ldate,freq=str(interval) + \"min\", tz=utc)\n",
    "# df=test.df\n",
    "# df\n",
    "# for date in ds_date:\n",
    "#     print(date)\n",
    "#     print(df.index.unique().get_indexer([pd.to_datetime(date)], method=\"nearest\"))\n",
    "#     row1 = df.loc[df.index == df.index.unique()[0]]\n"
   ]
  },
  {
   "cell_type": "code",
   "execution_count": 9,
   "id": "3f1a67e9",
   "metadata": {},
   "outputs": [
    {
     "ename": "TypeError",
     "evalue": "DatetimeIndex.get_loc() got an unexpected keyword argument 'method'",
     "output_type": "error",
     "traceback": [
      "\u001b[0;31m---------------------------------------------------------------------------\u001b[0m",
      "\u001b[0;31mTypeError\u001b[0m                                 Traceback (most recent call last)",
      "Cell \u001b[0;32mIn[9], line 2\u001b[0m\n\u001b[1;32m      1\u001b[0m \u001b[38;5;66;03m#create a kml file of a orbit line\u001b[39;00m\n\u001b[0;32m----> 2\u001b[0m \u001b[43mtest\u001b[49m\u001b[38;5;241;43m.\u001b[39;49m\u001b[43mcalc_positions_faster_between\u001b[49m\u001b[43m(\u001b[49m\u001b[43msdate\u001b[49m\u001b[43m,\u001b[49m\u001b[43medate\u001b[49m\u001b[43m,\u001b[49m\u001b[38;5;241;43m1\u001b[39;49m\u001b[43m)\u001b[49m\n\u001b[1;32m      3\u001b[0m test\u001b[38;5;241m.\u001b[39mexport(\u001b[38;5;124m\"\u001b[39m\u001b[38;5;124m../../test_data/output/test2.kml\u001b[39m\u001b[38;5;124m\"\u001b[39m)\n",
      "File \u001b[0;32m/mnt/c/Users/Nakata Kazuki/Documents/プログラム/2022/mycode/kn-general_analysis_tools/notebook/../knool/satellite/data/satellite.py:65\u001b[0m, in \u001b[0;36mTLEsPerSat.calc_positions_faster_between\u001b[0;34m(self, fdt, ldt, interval)\u001b[0m\n\u001b[1;32m     62\u001b[0m mdt \u001b[38;5;241m=\u001b[39m mdt\u001b[38;5;241m.\u001b[39mreplace(tzinfo\u001b[38;5;241m=\u001b[39mutc)\n\u001b[1;32m     64\u001b[0m df \u001b[38;5;241m=\u001b[39m \u001b[38;5;28mself\u001b[39m\u001b[38;5;241m.\u001b[39mdf\n\u001b[0;32m---> 65\u001b[0m row1 \u001b[38;5;241m=\u001b[39m df\u001b[38;5;241m.\u001b[39mloc[df\u001b[38;5;241m.\u001b[39mindex \u001b[38;5;241m==\u001b[39m df\u001b[38;5;241m.\u001b[39mindex\u001b[38;5;241m.\u001b[39munique()[\u001b[43mdf\u001b[49m\u001b[38;5;241;43m.\u001b[39;49m\u001b[43mindex\u001b[49m\u001b[38;5;241;43m.\u001b[39;49m\u001b[43munique\u001b[49m\u001b[43m(\u001b[49m\u001b[43m)\u001b[49m\u001b[38;5;241;43m.\u001b[39;49m\u001b[43mget_loc\u001b[49m\u001b[43m(\u001b[49m\u001b[43mpd\u001b[49m\u001b[38;5;241;43m.\u001b[39;49m\u001b[43mto_datetime\u001b[49m\u001b[43m(\u001b[49m\u001b[43mmdt\u001b[49m\u001b[43m)\u001b[49m\u001b[43m,\u001b[49m\u001b[43m \u001b[49m\u001b[43mmethod\u001b[49m\u001b[38;5;241;43m=\u001b[39;49m\u001b[38;5;124;43m\"\u001b[39;49m\u001b[38;5;124;43mnearest\u001b[39;49m\u001b[38;5;124;43m\"\u001b[39;49m\u001b[43m)\u001b[49m]]\n\u001b[1;32m     66\u001b[0m num \u001b[38;5;241m=\u001b[39m row1\u001b[38;5;241m.\u001b[39mnum\u001b[38;5;241m.\u001b[39mvalues[\u001b[38;5;241m0\u001b[39m]\n\u001b[1;32m     68\u001b[0m date_ds \u001b[38;5;241m=\u001b[39m pd\u001b[38;5;241m.\u001b[39mdate_range(start\u001b[38;5;241m=\u001b[39mfdt, end\u001b[38;5;241m=\u001b[39mldt, freq\u001b[38;5;241m=\u001b[39m\u001b[38;5;28mstr\u001b[39m(interval) \u001b[38;5;241m+\u001b[39m \u001b[38;5;124m\"\u001b[39m\u001b[38;5;124mmin\u001b[39m\u001b[38;5;124m\"\u001b[39m, tz\u001b[38;5;241m=\u001b[39mutc)\n",
      "\u001b[0;31mTypeError\u001b[0m: DatetimeIndex.get_loc() got an unexpected keyword argument 'method'"
     ]
    }
   ],
   "source": [
    "#create a kml file of a orbit line\n",
    "test.calc_positions_faster_between(sdate,edate,1)\n",
    "test.export(\"../../test_data/output/test2.kml\")"
   ]
  },
  {
   "cell_type": "code",
   "execution_count": 10,
   "id": "6c70cf85",
   "metadata": {
    "scrolled": true
   },
   "outputs": [
    {
     "ename": "TypeError",
     "evalue": "DatetimeIndex.get_loc() got an unexpected keyword argument 'method'",
     "output_type": "error",
     "traceback": [
      "\u001b[0;31m---------------------------------------------------------------------------\u001b[0m",
      "\u001b[0;31mTypeError\u001b[0m                                 Traceback (most recent call last)",
      "Cell \u001b[0;32mIn[10], line 2\u001b[0m\n\u001b[1;32m      1\u001b[0m \u001b[38;5;66;03m#Creates a kml file of a polygon\u001b[39;00m\n\u001b[0;32m----> 2\u001b[0m \u001b[43mtest\u001b[49m\u001b[38;5;241;43m.\u001b[39;49m\u001b[43mcalc_buff_area_between\u001b[49m\u001b[43m(\u001b[49m\u001b[43msdate\u001b[49m\u001b[43m,\u001b[49m\u001b[43medate\u001b[49m\u001b[43m,\u001b[49m\u001b[38;5;241;43m1\u001b[39;49m\u001b[43m,\u001b[49m\u001b[38;5;241;43m1000000\u001b[39;49m\u001b[43m,\u001b[49m\u001b[43mori\u001b[49m\u001b[38;5;241;43m=\u001b[39;49m\u001b[38;5;124;43m\"\u001b[39;49m\u001b[38;5;124;43mright\u001b[39;49m\u001b[38;5;124;43m\"\u001b[39;49m\u001b[43m)\u001b[49m\n\u001b[1;32m      3\u001b[0m test\u001b[38;5;241m.\u001b[39mexport(\u001b[38;5;124m\"\u001b[39m\u001b[38;5;124m../../test_data/output/test3.kml\u001b[39m\u001b[38;5;124m\"\u001b[39m)\n",
      "File \u001b[0;32m/mnt/c/Users/Nakata Kazuki/Documents/プログラム/2022/mycode/kn-general_analysis_tools/notebook/../knool/satellite/data/satellite.py:137\u001b[0m, in \u001b[0;36mTLEsPerSat.calc_buff_area_between\u001b[0;34m(self, fdate, ldate, interval, distance, ori)\u001b[0m\n\u001b[1;32m    136\u001b[0m \u001b[38;5;28;01mdef\u001b[39;00m \u001b[38;5;21mcalc_buff_area_between\u001b[39m(\u001b[38;5;28mself\u001b[39m, fdate, ldate, interval, distance, ori\u001b[38;5;241m=\u001b[39m\u001b[38;5;124m\"\u001b[39m\u001b[38;5;124mmiddle\u001b[39m\u001b[38;5;124m\"\u001b[39m):\n\u001b[0;32m--> 137\u001b[0m     lpos_array, rpos_array \u001b[38;5;241m=\u001b[39m \u001b[38;5;28;43mself\u001b[39;49m\u001b[38;5;241;43m.\u001b[39;49m\u001b[43m_calc_buff_positions__left_right_between\u001b[49m\u001b[43m(\u001b[49m\u001b[43mfdate\u001b[49m\u001b[43m,\u001b[49m\u001b[43m \u001b[49m\u001b[43mldate\u001b[49m\u001b[43m,\u001b[49m\u001b[43m \u001b[49m\u001b[43minterval\u001b[49m\u001b[43m,\u001b[49m\u001b[43m \u001b[49m\u001b[43mdistance\u001b[49m\u001b[43m,\u001b[49m\u001b[43m \u001b[49m\u001b[43mori\u001b[49m\u001b[43m)\u001b[49m\n\u001b[1;32m    139\u001b[0m     result \u001b[38;5;241m=\u001b[39m np\u001b[38;5;241m.\u001b[39mconcatenate([rpos_array, lpos_array[::\u001b[38;5;241m-\u001b[39m\u001b[38;5;241m1\u001b[39m]])\n\u001b[1;32m    140\u001b[0m     \u001b[38;5;28mself\u001b[39m\u001b[38;5;241m.\u001b[39moutput \u001b[38;5;241m=\u001b[39m result\n",
      "File \u001b[0;32m/mnt/c/Users/Nakata Kazuki/Documents/プログラム/2022/mycode/kn-general_analysis_tools/notebook/../knool/satellite/data/satellite.py:126\u001b[0m, in \u001b[0;36mTLEsPerSat._calc_buff_positions__left_right_between\u001b[0;34m(self, fdate, ldate, interval, distance, ori)\u001b[0m\n\u001b[1;32m    124\u001b[0m     lpos_array \u001b[38;5;241m=\u001b[39m \u001b[38;5;28mself\u001b[39m\u001b[38;5;241m.\u001b[39mcalc_buff_positions_faster_between(fdate, ldate, interval, distance \u001b[38;5;241m/\u001b[39m \u001b[38;5;241m2\u001b[39m, ori\u001b[38;5;241m=\u001b[39m\u001b[38;5;124m\"\u001b[39m\u001b[38;5;124mleft\u001b[39m\u001b[38;5;124m\"\u001b[39m)\n\u001b[1;32m    125\u001b[0m \u001b[38;5;28;01melif\u001b[39;00m ori \u001b[38;5;241m==\u001b[39m \u001b[38;5;124m\"\u001b[39m\u001b[38;5;124mright\u001b[39m\u001b[38;5;124m\"\u001b[39m:\n\u001b[0;32m--> 126\u001b[0m     rpos_array \u001b[38;5;241m=\u001b[39m \u001b[38;5;28;43mself\u001b[39;49m\u001b[38;5;241;43m.\u001b[39;49m\u001b[43mcalc_buff_positions_faster_between\u001b[49m\u001b[43m(\u001b[49m\u001b[43mfdate\u001b[49m\u001b[43m,\u001b[49m\u001b[43m \u001b[49m\u001b[43mldate\u001b[49m\u001b[43m,\u001b[49m\u001b[43m \u001b[49m\u001b[43minterval\u001b[49m\u001b[43m,\u001b[49m\u001b[43m \u001b[49m\u001b[43mdistance\u001b[49m\u001b[43m,\u001b[49m\u001b[43m \u001b[49m\u001b[43mori\u001b[49m\u001b[38;5;241;43m=\u001b[39;49m\u001b[38;5;124;43m\"\u001b[39;49m\u001b[38;5;124;43mright\u001b[39;49m\u001b[38;5;124;43m\"\u001b[39;49m\u001b[43m)\u001b[49m\n\u001b[1;32m    127\u001b[0m     lpos_array \u001b[38;5;241m=\u001b[39m \u001b[38;5;28mself\u001b[39m\u001b[38;5;241m.\u001b[39mcalc_positions_faster_between(fdate, ldate, interval)\n\u001b[1;32m    128\u001b[0m \u001b[38;5;28;01melif\u001b[39;00m ori \u001b[38;5;241m==\u001b[39m \u001b[38;5;124m\"\u001b[39m\u001b[38;5;124mleft\u001b[39m\u001b[38;5;124m\"\u001b[39m:\n",
      "File \u001b[0;32m/mnt/c/Users/Nakata Kazuki/Documents/プログラム/2022/mycode/kn-general_analysis_tools/notebook/../knool/satellite/data/satellite.py:105\u001b[0m, in \u001b[0;36mTLEsPerSat.calc_buff_positions_faster_between\u001b[0;34m(self, fdt, ldt, interval, distance, ori)\u001b[0m\n\u001b[1;32m    102\u001b[0m mdt \u001b[38;5;241m=\u001b[39m mdt\u001b[38;5;241m.\u001b[39mreplace(tzinfo\u001b[38;5;241m=\u001b[39mutc)\n\u001b[1;32m    104\u001b[0m df \u001b[38;5;241m=\u001b[39m \u001b[38;5;28mself\u001b[39m\u001b[38;5;241m.\u001b[39mdf\n\u001b[0;32m--> 105\u001b[0m row1 \u001b[38;5;241m=\u001b[39m df\u001b[38;5;241m.\u001b[39mloc[df\u001b[38;5;241m.\u001b[39mindex \u001b[38;5;241m==\u001b[39m df\u001b[38;5;241m.\u001b[39mindex\u001b[38;5;241m.\u001b[39munique()[\u001b[43mdf\u001b[49m\u001b[38;5;241;43m.\u001b[39;49m\u001b[43mindex\u001b[49m\u001b[38;5;241;43m.\u001b[39;49m\u001b[43munique\u001b[49m\u001b[43m(\u001b[49m\u001b[43m)\u001b[49m\u001b[38;5;241;43m.\u001b[39;49m\u001b[43mget_loc\u001b[49m\u001b[43m(\u001b[49m\u001b[43mpd\u001b[49m\u001b[38;5;241;43m.\u001b[39;49m\u001b[43mto_datetime\u001b[49m\u001b[43m(\u001b[49m\u001b[43mmdt\u001b[49m\u001b[43m)\u001b[49m\u001b[43m,\u001b[49m\u001b[43m \u001b[49m\u001b[43mmethod\u001b[49m\u001b[38;5;241;43m=\u001b[39;49m\u001b[38;5;124;43m\"\u001b[39;49m\u001b[38;5;124;43mnearest\u001b[39;49m\u001b[38;5;124;43m\"\u001b[39;49m\u001b[43m)\u001b[49m]]\n\u001b[1;32m    106\u001b[0m num \u001b[38;5;241m=\u001b[39m row1\u001b[38;5;241m.\u001b[39mnum\u001b[38;5;241m.\u001b[39mvalues[\u001b[38;5;241m0\u001b[39m]\n\u001b[1;32m    108\u001b[0m date_ds \u001b[38;5;241m=\u001b[39m pd\u001b[38;5;241m.\u001b[39mdate_range(start\u001b[38;5;241m=\u001b[39mfdt, end\u001b[38;5;241m=\u001b[39mldt \u001b[38;5;241m+\u001b[39m timedelta(minutes\u001b[38;5;241m=\u001b[39minterval), freq\u001b[38;5;241m=\u001b[39m\u001b[38;5;28mstr\u001b[39m(interval) \u001b[38;5;241m+\u001b[39m \u001b[38;5;124m\"\u001b[39m\u001b[38;5;124mmin\u001b[39m\u001b[38;5;124m\"\u001b[39m, tz\u001b[38;5;241m=\u001b[39mutc)\n",
      "\u001b[0;31mTypeError\u001b[0m: DatetimeIndex.get_loc() got an unexpected keyword argument 'method'"
     ]
    }
   ],
   "source": [
    "#Creates a kml file of a polygon\n",
    "test.calc_buff_area_between(sdate,edate,1,1000000,ori=\"right\")\n",
    "test.export(\"../../test_data/output/test3.kml\")"
   ]
  },
  {
   "cell_type": "code",
   "execution_count": 11,
   "id": "077e54fa",
   "metadata": {},
   "outputs": [
    {
     "ename": "TypeError",
     "evalue": "DatetimeIndex.get_loc() got an unexpected keyword argument 'method'",
     "output_type": "error",
     "traceback": [
      "\u001b[0;31m---------------------------------------------------------------------------\u001b[0m",
      "\u001b[0;31mTypeError\u001b[0m                                 Traceback (most recent call last)",
      "Cell \u001b[0;32mIn[11], line 3\u001b[0m\n\u001b[1;32m      1\u001b[0m sdate\u001b[38;5;241m=\u001b[39mdt\u001b[38;5;241m.\u001b[39mstrptime(\u001b[38;5;124m\"\u001b[39m\u001b[38;5;124m2011-07-01 10:00:00\u001b[39m\u001b[38;5;124m\"\u001b[39m,\u001b[38;5;124m'\u001b[39m\u001b[38;5;124m%\u001b[39m\u001b[38;5;124mY-\u001b[39m\u001b[38;5;124m%\u001b[39m\u001b[38;5;124mm-\u001b[39m\u001b[38;5;132;01m%d\u001b[39;00m\u001b[38;5;124m \u001b[39m\u001b[38;5;124m%\u001b[39m\u001b[38;5;124mH:\u001b[39m\u001b[38;5;124m%\u001b[39m\u001b[38;5;124mM:\u001b[39m\u001b[38;5;124m%\u001b[39m\u001b[38;5;124mS\u001b[39m\u001b[38;5;124m'\u001b[39m)\n\u001b[1;32m      2\u001b[0m edate\u001b[38;5;241m=\u001b[39mdt\u001b[38;5;241m.\u001b[39mstrptime(\u001b[38;5;124m\"\u001b[39m\u001b[38;5;124m2011-07-01 11:40:00\u001b[39m\u001b[38;5;124m\"\u001b[39m,\u001b[38;5;124m'\u001b[39m\u001b[38;5;124m%\u001b[39m\u001b[38;5;124mY-\u001b[39m\u001b[38;5;124m%\u001b[39m\u001b[38;5;124mm-\u001b[39m\u001b[38;5;132;01m%d\u001b[39;00m\u001b[38;5;124m \u001b[39m\u001b[38;5;124m%\u001b[39m\u001b[38;5;124mH:\u001b[39m\u001b[38;5;124m%\u001b[39m\u001b[38;5;124mM:\u001b[39m\u001b[38;5;124m%\u001b[39m\u001b[38;5;124mS\u001b[39m\u001b[38;5;124m'\u001b[39m)\n\u001b[0;32m----> 3\u001b[0m \u001b[43mtest\u001b[49m\u001b[38;5;241;43m.\u001b[39;49m\u001b[43mcalc_scene_areas\u001b[49m\u001b[43m(\u001b[49m\u001b[43msdate\u001b[49m\u001b[43m,\u001b[49m\u001b[43medate\u001b[49m\u001b[43m,\u001b[49m\u001b[38;5;241;43m1\u001b[39;49m\u001b[43m,\u001b[49m\u001b[38;5;241;43m1450000\u001b[39;49m\u001b[43m,\u001b[49m\u001b[38;5;241;43m6\u001b[39;49m\u001b[43m,\u001b[49m\u001b[43mori\u001b[49m\u001b[38;5;241;43m=\u001b[39;49m\u001b[38;5;124;43m\"\u001b[39;49m\u001b[38;5;124;43mmiddle\u001b[39;49m\u001b[38;5;124;43m\"\u001b[39;49m\u001b[43m)\u001b[49m\n\u001b[1;32m      4\u001b[0m test\u001b[38;5;241m.\u001b[39mexport(\u001b[38;5;124m\"\u001b[39m\u001b[38;5;124m../../test_data/output/test4.kml\u001b[39m\u001b[38;5;124m\"\u001b[39m)\n",
      "File \u001b[0;32m/mnt/c/Users/Nakata Kazuki/Documents/プログラム/2022/mycode/kn-general_analysis_tools/notebook/../knool/satellite/data/satellite.py:146\u001b[0m, in \u001b[0;36mTLEsPerSat.calc_scene_areas\u001b[0;34m(self, fdate, ldate, interval, distance, pinterval, ori)\u001b[0m\n\u001b[1;32m    145\u001b[0m \u001b[38;5;28;01mdef\u001b[39;00m \u001b[38;5;21mcalc_scene_areas\u001b[39m(\u001b[38;5;28mself\u001b[39m, fdate, ldate, interval, distance, pinterval, ori\u001b[38;5;241m=\u001b[39m\u001b[38;5;124m\"\u001b[39m\u001b[38;5;124mmiddle\u001b[39m\u001b[38;5;124m\"\u001b[39m):\n\u001b[0;32m--> 146\u001b[0m     lpos_array, rpos_array \u001b[38;5;241m=\u001b[39m \u001b[38;5;28;43mself\u001b[39;49m\u001b[38;5;241;43m.\u001b[39;49m\u001b[43m_calc_buff_positions__left_right_between\u001b[49m\u001b[43m(\u001b[49m\u001b[43mfdate\u001b[49m\u001b[43m,\u001b[49m\u001b[43m \u001b[49m\u001b[43mldate\u001b[49m\u001b[43m,\u001b[49m\u001b[43m \u001b[49m\u001b[43minterval\u001b[49m\u001b[43m,\u001b[49m\u001b[43m \u001b[49m\u001b[43mdistance\u001b[49m\u001b[43m,\u001b[49m\u001b[43m \u001b[49m\u001b[43mori\u001b[49m\u001b[43m)\u001b[49m\n\u001b[1;32m    148\u001b[0m     row_num \u001b[38;5;241m=\u001b[39m rpos_array\u001b[38;5;241m.\u001b[39mshape[\u001b[38;5;241m0\u001b[39m]\n\u001b[1;32m    149\u001b[0m     col_num \u001b[38;5;241m=\u001b[39m \u001b[38;5;241m2\u001b[39m\n",
      "File \u001b[0;32m/mnt/c/Users/Nakata Kazuki/Documents/プログラム/2022/mycode/kn-general_analysis_tools/notebook/../knool/satellite/data/satellite.py:123\u001b[0m, in \u001b[0;36mTLEsPerSat._calc_buff_positions__left_right_between\u001b[0;34m(self, fdate, ldate, interval, distance, ori)\u001b[0m\n\u001b[1;32m    120\u001b[0m \u001b[38;5;28;01mdef\u001b[39;00m \u001b[38;5;21m_calc_buff_positions__left_right_between\u001b[39m(\u001b[38;5;28mself\u001b[39m, fdate, ldate, interval, distance, ori\u001b[38;5;241m=\u001b[39m\u001b[38;5;124m\"\u001b[39m\u001b[38;5;124mmiddle\u001b[39m\u001b[38;5;124m\"\u001b[39m):\n\u001b[1;32m    122\u001b[0m     \u001b[38;5;28;01mif\u001b[39;00m ori \u001b[38;5;241m==\u001b[39m \u001b[38;5;124m\"\u001b[39m\u001b[38;5;124mmiddle\u001b[39m\u001b[38;5;124m\"\u001b[39m:\n\u001b[0;32m--> 123\u001b[0m         rpos_array \u001b[38;5;241m=\u001b[39m \u001b[38;5;28;43mself\u001b[39;49m\u001b[38;5;241;43m.\u001b[39;49m\u001b[43mcalc_buff_positions_faster_between\u001b[49m\u001b[43m(\u001b[49m\u001b[43mfdate\u001b[49m\u001b[43m,\u001b[49m\u001b[43m \u001b[49m\u001b[43mldate\u001b[49m\u001b[43m,\u001b[49m\u001b[43m \u001b[49m\u001b[43minterval\u001b[49m\u001b[43m,\u001b[49m\u001b[43m \u001b[49m\u001b[43mdistance\u001b[49m\u001b[43m \u001b[49m\u001b[38;5;241;43m/\u001b[39;49m\u001b[43m \u001b[49m\u001b[38;5;241;43m2\u001b[39;49m\u001b[43m,\u001b[49m\u001b[43m \u001b[49m\u001b[43mori\u001b[49m\u001b[38;5;241;43m=\u001b[39;49m\u001b[38;5;124;43m\"\u001b[39;49m\u001b[38;5;124;43mright\u001b[39;49m\u001b[38;5;124;43m\"\u001b[39;49m\u001b[43m)\u001b[49m\n\u001b[1;32m    124\u001b[0m         lpos_array \u001b[38;5;241m=\u001b[39m \u001b[38;5;28mself\u001b[39m\u001b[38;5;241m.\u001b[39mcalc_buff_positions_faster_between(fdate, ldate, interval, distance \u001b[38;5;241m/\u001b[39m \u001b[38;5;241m2\u001b[39m, ori\u001b[38;5;241m=\u001b[39m\u001b[38;5;124m\"\u001b[39m\u001b[38;5;124mleft\u001b[39m\u001b[38;5;124m\"\u001b[39m)\n\u001b[1;32m    125\u001b[0m     \u001b[38;5;28;01melif\u001b[39;00m ori \u001b[38;5;241m==\u001b[39m \u001b[38;5;124m\"\u001b[39m\u001b[38;5;124mright\u001b[39m\u001b[38;5;124m\"\u001b[39m:\n",
      "File \u001b[0;32m/mnt/c/Users/Nakata Kazuki/Documents/プログラム/2022/mycode/kn-general_analysis_tools/notebook/../knool/satellite/data/satellite.py:105\u001b[0m, in \u001b[0;36mTLEsPerSat.calc_buff_positions_faster_between\u001b[0;34m(self, fdt, ldt, interval, distance, ori)\u001b[0m\n\u001b[1;32m    102\u001b[0m mdt \u001b[38;5;241m=\u001b[39m mdt\u001b[38;5;241m.\u001b[39mreplace(tzinfo\u001b[38;5;241m=\u001b[39mutc)\n\u001b[1;32m    104\u001b[0m df \u001b[38;5;241m=\u001b[39m \u001b[38;5;28mself\u001b[39m\u001b[38;5;241m.\u001b[39mdf\n\u001b[0;32m--> 105\u001b[0m row1 \u001b[38;5;241m=\u001b[39m df\u001b[38;5;241m.\u001b[39mloc[df\u001b[38;5;241m.\u001b[39mindex \u001b[38;5;241m==\u001b[39m df\u001b[38;5;241m.\u001b[39mindex\u001b[38;5;241m.\u001b[39munique()[\u001b[43mdf\u001b[49m\u001b[38;5;241;43m.\u001b[39;49m\u001b[43mindex\u001b[49m\u001b[38;5;241;43m.\u001b[39;49m\u001b[43munique\u001b[49m\u001b[43m(\u001b[49m\u001b[43m)\u001b[49m\u001b[38;5;241;43m.\u001b[39;49m\u001b[43mget_loc\u001b[49m\u001b[43m(\u001b[49m\u001b[43mpd\u001b[49m\u001b[38;5;241;43m.\u001b[39;49m\u001b[43mto_datetime\u001b[49m\u001b[43m(\u001b[49m\u001b[43mmdt\u001b[49m\u001b[43m)\u001b[49m\u001b[43m,\u001b[49m\u001b[43m \u001b[49m\u001b[43mmethod\u001b[49m\u001b[38;5;241;43m=\u001b[39;49m\u001b[38;5;124;43m\"\u001b[39;49m\u001b[38;5;124;43mnearest\u001b[39;49m\u001b[38;5;124;43m\"\u001b[39;49m\u001b[43m)\u001b[49m]]\n\u001b[1;32m    106\u001b[0m num \u001b[38;5;241m=\u001b[39m row1\u001b[38;5;241m.\u001b[39mnum\u001b[38;5;241m.\u001b[39mvalues[\u001b[38;5;241m0\u001b[39m]\n\u001b[1;32m    108\u001b[0m date_ds \u001b[38;5;241m=\u001b[39m pd\u001b[38;5;241m.\u001b[39mdate_range(start\u001b[38;5;241m=\u001b[39mfdt, end\u001b[38;5;241m=\u001b[39mldt \u001b[38;5;241m+\u001b[39m timedelta(minutes\u001b[38;5;241m=\u001b[39minterval), freq\u001b[38;5;241m=\u001b[39m\u001b[38;5;28mstr\u001b[39m(interval) \u001b[38;5;241m+\u001b[39m \u001b[38;5;124m\"\u001b[39m\u001b[38;5;124mmin\u001b[39m\u001b[38;5;124m\"\u001b[39m, tz\u001b[38;5;241m=\u001b[39mutc)\n",
      "\u001b[0;31mTypeError\u001b[0m: DatetimeIndex.get_loc() got an unexpected keyword argument 'method'"
     ]
    }
   ],
   "source": [
    "sdate=dt.strptime(\"2011-07-01 10:00:00\",'%Y-%m-%d %H:%M:%S')\n",
    "edate=dt.strptime(\"2011-07-01 11:40:00\",'%Y-%m-%d %H:%M:%S')\n",
    "test.calc_scene_areas(sdate,edate,1,1450000,6,ori=\"middle\")\n",
    "test.export(\"../../test_data/output/test4.kml\")"
   ]
  },
  {
   "cell_type": "code",
   "execution_count": 12,
   "id": "dfee04fb",
   "metadata": {
    "scrolled": true
   },
   "outputs": [],
   "source": [
    "from knool.satellite.data import satellite\n",
    "importlib.reload(geo_info)\n",
    "importlib.reload(geo_geom)\n",
    "importlib.reload(geo_io)\n",
    "importlib.reload(satellite)\n",
    "\n",
    "\n",
    "shpfile=r\"../../test_data/matchup/AOI2.shp\"\n",
    "vector=ogr.Open(shpfile)\n",
    "layer=vector.GetLayer()\n",
    "geom_list=[]\n",
    "for feat in layer:\n",
    "    geom_list.append(feat.GetGeometryRef().Clone())\n",
    "\n",
    "trans_for=[]\n",
    "trans_back=[]\n",
    "for geom in geom_list:\n",
    "    lon,lat,_=geom.Centroid().GetPoint()\n",
    "    srs_pre=geo_info.get_shifted_wgs84_proj4(0)\n",
    "    srs_af=geo_info.get_orthographic_proj4(lat,lon,0,0)\n",
    "    trans_for.append(geo_info.get_coord_transform_proj4(srs_pre,srs_af))\n",
    "    trans_back.append(geo_info.get_coord_transform_proj4(srs_af,srs_pre))\n",
    "\n",
    "sdate=dt.strptime(\"2011-06-01 03:00:00\",'%Y-%m-%d %H:%M:%S')\n",
    "edate=dt.strptime(\"2011-06-02 05:00:00\",'%Y-%m-%d %H:%M:%S')\n",
    "\n",
    "infile=r\"../knool/satellite/data/data/two_line_elements/sat38337.txt\"\n",
    "test=satellite.TLEsPerSat(infile)\n"
   ]
  },
  {
   "cell_type": "code",
   "execution_count": 13,
   "id": "6e5cd309",
   "metadata": {},
   "outputs": [
    {
     "ename": "TypeError",
     "evalue": "DatetimeIndex.get_loc() got an unexpected keyword argument 'method'",
     "output_type": "error",
     "traceback": [
      "\u001b[0;31m---------------------------------------------------------------------------\u001b[0m",
      "\u001b[0;31mTypeError\u001b[0m                                 Traceback (most recent call last)",
      "Cell \u001b[0;32mIn[13], line 19\u001b[0m\n\u001b[1;32m     17\u001b[0m sdate\u001b[38;5;241m=\u001b[39mdt\u001b[38;5;241m.\u001b[39mstrptime(\u001b[38;5;124m\"\u001b[39m\u001b[38;5;124m2011-06-01 03:00:00\u001b[39m\u001b[38;5;124m\"\u001b[39m,\u001b[38;5;124m'\u001b[39m\u001b[38;5;124m%\u001b[39m\u001b[38;5;124mY-\u001b[39m\u001b[38;5;124m%\u001b[39m\u001b[38;5;124mm-\u001b[39m\u001b[38;5;132;01m%d\u001b[39;00m\u001b[38;5;124m \u001b[39m\u001b[38;5;124m%\u001b[39m\u001b[38;5;124mH:\u001b[39m\u001b[38;5;124m%\u001b[39m\u001b[38;5;124mM:\u001b[39m\u001b[38;5;124m%\u001b[39m\u001b[38;5;124mS\u001b[39m\u001b[38;5;124m'\u001b[39m)\n\u001b[1;32m     18\u001b[0m edate\u001b[38;5;241m=\u001b[39mdt\u001b[38;5;241m.\u001b[39mstrptime(\u001b[38;5;124m\"\u001b[39m\u001b[38;5;124m2011-06-02 05:00:00\u001b[39m\u001b[38;5;124m\"\u001b[39m,\u001b[38;5;124m'\u001b[39m\u001b[38;5;124m%\u001b[39m\u001b[38;5;124mY-\u001b[39m\u001b[38;5;124m%\u001b[39m\u001b[38;5;124mm-\u001b[39m\u001b[38;5;132;01m%d\u001b[39;00m\u001b[38;5;124m \u001b[39m\u001b[38;5;124m%\u001b[39m\u001b[38;5;124mH:\u001b[39m\u001b[38;5;124m%\u001b[39m\u001b[38;5;124mM:\u001b[39m\u001b[38;5;124m%\u001b[39m\u001b[38;5;124mS\u001b[39m\u001b[38;5;124m'\u001b[39m)\n\u001b[0;32m---> 19\u001b[0m \u001b[43mtest\u001b[49m\u001b[38;5;241;43m.\u001b[39;49m\u001b[43mcalc_scene_areas\u001b[49m\u001b[43m(\u001b[49m\u001b[43msdate\u001b[49m\u001b[43m,\u001b[49m\u001b[43medate\u001b[49m\u001b[43m,\u001b[49m\u001b[38;5;241;43m1\u001b[39;49m\u001b[43m,\u001b[49m\u001b[38;5;241;43m2330000\u001b[39;49m\u001b[43m,\u001b[49m\u001b[38;5;241;43m2\u001b[39;49m\u001b[43m,\u001b[49m\u001b[43mori\u001b[49m\u001b[38;5;241;43m=\u001b[39;49m\u001b[38;5;124;43m\"\u001b[39;49m\u001b[38;5;124;43mmiddle\u001b[39;49m\u001b[38;5;124;43m\"\u001b[39;49m\u001b[43m)\u001b[49m\n\u001b[1;32m     20\u001b[0m test\u001b[38;5;241m.\u001b[39mexport(\u001b[38;5;124m\"\u001b[39m\u001b[38;5;124m../../test_data/output/test4.kml\u001b[39m\u001b[38;5;124m\"\u001b[39m)\n\u001b[1;32m     22\u001b[0m result,result2 \u001b[38;5;241m=\u001b[39m test\u001b[38;5;241m.\u001b[39mcalc_intersect_scene_areas(sdate,edate,\u001b[38;5;241m1\u001b[39m,\u001b[38;5;241m2330000\u001b[39m,\u001b[38;5;241m2\u001b[39m,geom_list,trans_for,ori\u001b[38;5;241m=\u001b[39m\u001b[38;5;124m\"\u001b[39m\u001b[38;5;124mmiddle\u001b[39m\u001b[38;5;124m\"\u001b[39m)\n",
      "File \u001b[0;32m/mnt/c/Users/Nakata Kazuki/Documents/プログラム/2022/mycode/kn-general_analysis_tools/notebook/../knool/satellite/data/satellite.py:146\u001b[0m, in \u001b[0;36mTLEsPerSat.calc_scene_areas\u001b[0;34m(self, fdate, ldate, interval, distance, pinterval, ori)\u001b[0m\n\u001b[1;32m    145\u001b[0m \u001b[38;5;28;01mdef\u001b[39;00m \u001b[38;5;21mcalc_scene_areas\u001b[39m(\u001b[38;5;28mself\u001b[39m, fdate, ldate, interval, distance, pinterval, ori\u001b[38;5;241m=\u001b[39m\u001b[38;5;124m\"\u001b[39m\u001b[38;5;124mmiddle\u001b[39m\u001b[38;5;124m\"\u001b[39m):\n\u001b[0;32m--> 146\u001b[0m     lpos_array, rpos_array \u001b[38;5;241m=\u001b[39m \u001b[38;5;28;43mself\u001b[39;49m\u001b[38;5;241;43m.\u001b[39;49m\u001b[43m_calc_buff_positions__left_right_between\u001b[49m\u001b[43m(\u001b[49m\u001b[43mfdate\u001b[49m\u001b[43m,\u001b[49m\u001b[43m \u001b[49m\u001b[43mldate\u001b[49m\u001b[43m,\u001b[49m\u001b[43m \u001b[49m\u001b[43minterval\u001b[49m\u001b[43m,\u001b[49m\u001b[43m \u001b[49m\u001b[43mdistance\u001b[49m\u001b[43m,\u001b[49m\u001b[43m \u001b[49m\u001b[43mori\u001b[49m\u001b[43m)\u001b[49m\n\u001b[1;32m    148\u001b[0m     row_num \u001b[38;5;241m=\u001b[39m rpos_array\u001b[38;5;241m.\u001b[39mshape[\u001b[38;5;241m0\u001b[39m]\n\u001b[1;32m    149\u001b[0m     col_num \u001b[38;5;241m=\u001b[39m \u001b[38;5;241m2\u001b[39m\n",
      "File \u001b[0;32m/mnt/c/Users/Nakata Kazuki/Documents/プログラム/2022/mycode/kn-general_analysis_tools/notebook/../knool/satellite/data/satellite.py:123\u001b[0m, in \u001b[0;36mTLEsPerSat._calc_buff_positions__left_right_between\u001b[0;34m(self, fdate, ldate, interval, distance, ori)\u001b[0m\n\u001b[1;32m    120\u001b[0m \u001b[38;5;28;01mdef\u001b[39;00m \u001b[38;5;21m_calc_buff_positions__left_right_between\u001b[39m(\u001b[38;5;28mself\u001b[39m, fdate, ldate, interval, distance, ori\u001b[38;5;241m=\u001b[39m\u001b[38;5;124m\"\u001b[39m\u001b[38;5;124mmiddle\u001b[39m\u001b[38;5;124m\"\u001b[39m):\n\u001b[1;32m    122\u001b[0m     \u001b[38;5;28;01mif\u001b[39;00m ori \u001b[38;5;241m==\u001b[39m \u001b[38;5;124m\"\u001b[39m\u001b[38;5;124mmiddle\u001b[39m\u001b[38;5;124m\"\u001b[39m:\n\u001b[0;32m--> 123\u001b[0m         rpos_array \u001b[38;5;241m=\u001b[39m \u001b[38;5;28;43mself\u001b[39;49m\u001b[38;5;241;43m.\u001b[39;49m\u001b[43mcalc_buff_positions_faster_between\u001b[49m\u001b[43m(\u001b[49m\u001b[43mfdate\u001b[49m\u001b[43m,\u001b[49m\u001b[43m \u001b[49m\u001b[43mldate\u001b[49m\u001b[43m,\u001b[49m\u001b[43m \u001b[49m\u001b[43minterval\u001b[49m\u001b[43m,\u001b[49m\u001b[43m \u001b[49m\u001b[43mdistance\u001b[49m\u001b[43m \u001b[49m\u001b[38;5;241;43m/\u001b[39;49m\u001b[43m \u001b[49m\u001b[38;5;241;43m2\u001b[39;49m\u001b[43m,\u001b[49m\u001b[43m \u001b[49m\u001b[43mori\u001b[49m\u001b[38;5;241;43m=\u001b[39;49m\u001b[38;5;124;43m\"\u001b[39;49m\u001b[38;5;124;43mright\u001b[39;49m\u001b[38;5;124;43m\"\u001b[39;49m\u001b[43m)\u001b[49m\n\u001b[1;32m    124\u001b[0m         lpos_array \u001b[38;5;241m=\u001b[39m \u001b[38;5;28mself\u001b[39m\u001b[38;5;241m.\u001b[39mcalc_buff_positions_faster_between(fdate, ldate, interval, distance \u001b[38;5;241m/\u001b[39m \u001b[38;5;241m2\u001b[39m, ori\u001b[38;5;241m=\u001b[39m\u001b[38;5;124m\"\u001b[39m\u001b[38;5;124mleft\u001b[39m\u001b[38;5;124m\"\u001b[39m)\n\u001b[1;32m    125\u001b[0m     \u001b[38;5;28;01melif\u001b[39;00m ori \u001b[38;5;241m==\u001b[39m \u001b[38;5;124m\"\u001b[39m\u001b[38;5;124mright\u001b[39m\u001b[38;5;124m\"\u001b[39m:\n",
      "File \u001b[0;32m/mnt/c/Users/Nakata Kazuki/Documents/プログラム/2022/mycode/kn-general_analysis_tools/notebook/../knool/satellite/data/satellite.py:105\u001b[0m, in \u001b[0;36mTLEsPerSat.calc_buff_positions_faster_between\u001b[0;34m(self, fdt, ldt, interval, distance, ori)\u001b[0m\n\u001b[1;32m    102\u001b[0m mdt \u001b[38;5;241m=\u001b[39m mdt\u001b[38;5;241m.\u001b[39mreplace(tzinfo\u001b[38;5;241m=\u001b[39mutc)\n\u001b[1;32m    104\u001b[0m df \u001b[38;5;241m=\u001b[39m \u001b[38;5;28mself\u001b[39m\u001b[38;5;241m.\u001b[39mdf\n\u001b[0;32m--> 105\u001b[0m row1 \u001b[38;5;241m=\u001b[39m df\u001b[38;5;241m.\u001b[39mloc[df\u001b[38;5;241m.\u001b[39mindex \u001b[38;5;241m==\u001b[39m df\u001b[38;5;241m.\u001b[39mindex\u001b[38;5;241m.\u001b[39munique()[\u001b[43mdf\u001b[49m\u001b[38;5;241;43m.\u001b[39;49m\u001b[43mindex\u001b[49m\u001b[38;5;241;43m.\u001b[39;49m\u001b[43munique\u001b[49m\u001b[43m(\u001b[49m\u001b[43m)\u001b[49m\u001b[38;5;241;43m.\u001b[39;49m\u001b[43mget_loc\u001b[49m\u001b[43m(\u001b[49m\u001b[43mpd\u001b[49m\u001b[38;5;241;43m.\u001b[39;49m\u001b[43mto_datetime\u001b[49m\u001b[43m(\u001b[49m\u001b[43mmdt\u001b[49m\u001b[43m)\u001b[49m\u001b[43m,\u001b[49m\u001b[43m \u001b[49m\u001b[43mmethod\u001b[49m\u001b[38;5;241;43m=\u001b[39;49m\u001b[38;5;124;43m\"\u001b[39;49m\u001b[38;5;124;43mnearest\u001b[39;49m\u001b[38;5;124;43m\"\u001b[39;49m\u001b[43m)\u001b[49m]]\n\u001b[1;32m    106\u001b[0m num \u001b[38;5;241m=\u001b[39m row1\u001b[38;5;241m.\u001b[39mnum\u001b[38;5;241m.\u001b[39mvalues[\u001b[38;5;241m0\u001b[39m]\n\u001b[1;32m    108\u001b[0m date_ds \u001b[38;5;241m=\u001b[39m pd\u001b[38;5;241m.\u001b[39mdate_range(start\u001b[38;5;241m=\u001b[39mfdt, end\u001b[38;5;241m=\u001b[39mldt \u001b[38;5;241m+\u001b[39m timedelta(minutes\u001b[38;5;241m=\u001b[39minterval), freq\u001b[38;5;241m=\u001b[39m\u001b[38;5;28mstr\u001b[39m(interval) \u001b[38;5;241m+\u001b[39m \u001b[38;5;124m\"\u001b[39m\u001b[38;5;124mmin\u001b[39m\u001b[38;5;124m\"\u001b[39m, tz\u001b[38;5;241m=\u001b[39mutc)\n",
      "\u001b[0;31mTypeError\u001b[0m: DatetimeIndex.get_loc() got an unexpected keyword argument 'method'"
     ]
    }
   ],
   "source": [
    "# shpfile=r\"../../test_data/matchup/AOI.shp\"\n",
    "# vector=ogr.Open(shpfile)\n",
    "# layer=vector.GetLayer()\n",
    "# geom_list=[]\n",
    "# for feat in layer:\n",
    "#     geom_list.append(feat.GetGeometryRef().Clone())\n",
    "\n",
    "# trans_list=[]\n",
    "# for geom in geom_list:\n",
    "#     lon,lat,_=geom.Centroid().GetPoint()\n",
    "#     srs_pre=geo_info.get_shifted_wgs84_proj4(0)\n",
    "#     srs_af=geo_info.get_orthographic_proj4(lat,lon,0,0)\n",
    "#     trans_fore=geo_info.get_coord_transform_proj4(srs_pre,srs_af)\n",
    "#     trans_back=geo_info.get_coord_transform_proj4(srs_af,srs_pre)\n",
    "#     trans_list.append([trans_fore,trans_back])\n",
    "\n",
    "sdate=dt.strptime(\"2011-06-01 03:00:00\",'%Y-%m-%d %H:%M:%S')\n",
    "edate=dt.strptime(\"2011-06-02 05:00:00\",'%Y-%m-%d %H:%M:%S')\n",
    "test.calc_scene_areas(sdate,edate,1,2330000,2,ori=\"middle\")\n",
    "test.export(\"../../test_data/output/test4.kml\")\n",
    "\n",
    "result,result2 = test.calc_intersect_scene_areas(sdate,edate,1,2330000,2,geom_list,trans_for,ori=\"middle\")\n",
    "result=test.transform(result,trans_back)\n",
    "#print(len(result[0]),result)\n",
    "test.export(r\"../../test_data/output/test5.shp\",option=0)\n",
    "result=test.transform(result2,trans_back)\n",
    "test.export(r\"../../test_data/output/test6.kml\",option=0)\n"
   ]
  },
  {
   "cell_type": "code",
   "execution_count": 14,
   "id": "37b0a7ca",
   "metadata": {},
   "outputs": [
    {
     "ename": "TypeError",
     "evalue": "initialize_config_dir.__init__() got an unexpected keyword argument 'version_base'",
     "output_type": "error",
     "traceback": [
      "\u001b[0;31m---------------------------------------------------------------------------\u001b[0m",
      "\u001b[0;31mTypeError\u001b[0m                                 Traceback (most recent call last)",
      "Cell \u001b[0;32mIn[14], line 2\u001b[0m\n\u001b[1;32m      1\u001b[0m sensor_name\u001b[38;5;241m=\u001b[39m\u001b[38;5;124m\"\u001b[39m\u001b[38;5;124mamsr2\u001b[39m\u001b[38;5;124m\"\u001b[39m\n\u001b[0;32m----> 2\u001b[0m sensor1\u001b[38;5;241m=\u001b[39m\u001b[43msatellite\u001b[49m\u001b[38;5;241;43m.\u001b[39;49m\u001b[43mSensor\u001b[49m\u001b[43m(\u001b[49m\u001b[43msensor_name\u001b[49m\u001b[43m)\u001b[49m\n\u001b[1;32m      3\u001b[0m \u001b[38;5;66;03m# sensor_name=\"modis\"\u001b[39;00m\n\u001b[1;32m      4\u001b[0m \u001b[38;5;66;03m# sensor2=satellite.Sensor(sensor_name)\u001b[39;00m\n\u001b[1;32m      5\u001b[0m \u001b[38;5;28mprint\u001b[39m(sensor1\u001b[38;5;241m.\u001b[39mncid)\n",
      "File \u001b[0;32m/mnt/c/Users/Nakata Kazuki/Documents/プログラム/2022/mycode/kn-general_analysis_tools/notebook/../knool/satellite/data/satellite.py:303\u001b[0m, in \u001b[0;36mSensor.__init__\u001b[0;34m(self, sensor_name)\u001b[0m\n\u001b[1;32m    302\u001b[0m \u001b[38;5;28;01mdef\u001b[39;00m \u001b[38;5;21m__init__\u001b[39m(\u001b[38;5;28mself\u001b[39m, sensor_name):\n\u001b[0;32m--> 303\u001b[0m     \u001b[38;5;28mself\u001b[39m\u001b[38;5;241m.\u001b[39mparams \u001b[38;5;241m=\u001b[39m \u001b[43mimport_config\u001b[49m\u001b[43m(\u001b[49m\n\u001b[1;32m    304\u001b[0m \u001b[43m        \u001b[49m\u001b[43mconfig_path\u001b[49m\u001b[38;5;241;43m=\u001b[39;49m\u001b[43mos\u001b[49m\u001b[38;5;241;43m.\u001b[39;49m\u001b[43mpath\u001b[49m\u001b[38;5;241;43m.\u001b[39;49m\u001b[43mdirname\u001b[49m\u001b[43m(\u001b[49m\u001b[38;5;18;43m__file__\u001b[39;49m\u001b[43m)\u001b[49m\u001b[43m \u001b[49m\u001b[38;5;241;43m+\u001b[39;49m\u001b[43m \u001b[49m\u001b[43mos\u001b[49m\u001b[38;5;241;43m.\u001b[39;49m\u001b[43msep\u001b[49m\u001b[43m \u001b[49m\u001b[38;5;241;43m+\u001b[39;49m\u001b[43m \u001b[49m\u001b[38;5;124;43m\"\u001b[39;49m\u001b[38;5;124;43mconf/\u001b[39;49m\u001b[38;5;124;43m\"\u001b[39;49m\u001b[43m \u001b[49m\u001b[38;5;241;43m+\u001b[39;49m\u001b[43m \u001b[49m\u001b[43msensor_name\u001b[49m\u001b[43m \u001b[49m\u001b[38;5;241;43m+\u001b[39;49m\u001b[43m \u001b[49m\u001b[38;5;124;43m\"\u001b[39;49m\u001b[38;5;124;43m_params.yaml\u001b[39;49m\u001b[38;5;124;43m\"\u001b[39;49m\n\u001b[1;32m    305\u001b[0m \u001b[43m    \u001b[49m\u001b[43m)\u001b[49m\n\u001b[1;32m    306\u001b[0m     \u001b[38;5;28mself\u001b[39m\u001b[38;5;241m.\u001b[39mparam_keys \u001b[38;5;241m=\u001b[39m \u001b[38;5;28mself\u001b[39m\u001b[38;5;241m.\u001b[39mparams\u001b[38;5;241m.\u001b[39mkeys()\n\u001b[1;32m    307\u001b[0m     satcat \u001b[38;5;241m=\u001b[39m SatelliteCatalog()\n",
      "File \u001b[0;32m/mnt/c/Users/Nakata Kazuki/Documents/プログラム/2022/mycode/kn-general_analysis_tools/notebook/../knool/helpers/misc.py:33\u001b[0m, in \u001b[0;36mimport_config\u001b[0;34m(config_path)\u001b[0m\n\u001b[1;32m     31\u001b[0m conf_dir \u001b[38;5;241m=\u001b[39m os\u001b[38;5;241m.\u001b[39mpath\u001b[38;5;241m.\u001b[39mdirname(os\u001b[38;5;241m.\u001b[39mpath\u001b[38;5;241m.\u001b[39mabspath(config_path))\n\u001b[1;32m     32\u001b[0m conf_name \u001b[38;5;241m=\u001b[39m os\u001b[38;5;241m.\u001b[39mpath\u001b[38;5;241m.\u001b[39mbasename(config_path)\n\u001b[0;32m---> 33\u001b[0m \u001b[38;5;28;01mwith\u001b[39;00m \u001b[43minitialize_config_dir\u001b[49m\u001b[43m(\u001b[49m\u001b[43mconfig_dir\u001b[49m\u001b[38;5;241;43m=\u001b[39;49m\u001b[43mconf_dir\u001b[49m\u001b[43m,\u001b[49m\u001b[43m \u001b[49m\u001b[43mversion_base\u001b[49m\u001b[38;5;241;43m=\u001b[39;49m\u001b[38;5;28;43;01mNone\u001b[39;49;00m\u001b[43m)\u001b[49m:\n\u001b[1;32m     34\u001b[0m     conf \u001b[38;5;241m=\u001b[39m compose(config_name\u001b[38;5;241m=\u001b[39mconf_name)\n\u001b[1;32m     35\u001b[0m \u001b[38;5;28;01mreturn\u001b[39;00m conf\n",
      "\u001b[0;31mTypeError\u001b[0m: initialize_config_dir.__init__() got an unexpected keyword argument 'version_base'"
     ]
    }
   ],
   "source": [
    "sensor_name=\"amsr2\"\n",
    "sensor1=satellite.Sensor(sensor_name)\n",
    "# sensor_name=\"modis\"\n",
    "# sensor2=satellite.Sensor(sensor_name)\n",
    "print(sensor1.ncid)\n",
    "sdate=dt.strptime(\"2011-06-01 03:00:00\",'%Y-%m-%d %H:%M:%S')\n",
    "edate=dt.strptime(\"2011-06-01 03:30:00\",'%Y-%m-%d %H:%M:%S')\n",
    "\n",
    "geom_s1_llist00,_=sensor1.calc_intersect_scene_areas(sdate,edate,1,2,geom_list,trans_for,scene_all=True)\n",
    "print(len(geom_s1_llist00[0]))\n",
    "geom_s1_llist0,attr_s1_dlist=sensor1.union_adjacent_scenes(geom_s1_llist00)\n",
    "print(geom_s1_llist0)\n",
    "geom_s1_llist=sensor1.transform(geom_s1_llist0,trans_back)\n",
    "print(geom_s1_llist)\n",
    "#sensor1.export(r\"../../test_data/output/test7.shp\",option=0)\n",
    "# sensor1.export(r\"../../test_data/output/final2.shp\",option=0)"
   ]
  },
  {
   "cell_type": "code",
   "execution_count": 10,
   "id": "f247547a",
   "metadata": {},
   "outputs": [
    {
     "ename": "SyntaxError",
     "evalue": "expected 'except' or 'finally' block (4168339267.py, line 3)",
     "output_type": "error",
     "traceback": [
      "\u001b[0;36m  Input \u001b[0;32mIn [10]\u001b[0;36m\u001b[0m\n\u001b[0;31m    execept:\u001b[0m\n\u001b[0m    ^\u001b[0m\n\u001b[0;31mSyntaxError\u001b[0m\u001b[0;31m:\u001b[0m expected 'except' or 'finally' block\n"
     ]
    }
   ],
   "source": []
  },
  {
   "cell_type": "code",
   "execution_count": null,
   "id": "a6c37bae",
   "metadata": {},
   "outputs": [],
   "source": []
  }
 ],
 "metadata": {
  "interpreter": {
   "hash": "b3d8a036a58388e518fc58e3842fffe21e9c66e983ca7dfccc1ecea3c03f97f9"
  },
  "kernelspec": {
   "display_name": "Python 3 (ipykernel)",
   "language": "python",
   "name": "python3"
  },
  "language_info": {
   "codemirror_mode": {
    "name": "ipython",
    "version": 3
   },
   "file_extension": ".py",
   "mimetype": "text/x-python",
   "name": "python",
   "nbconvert_exporter": "python",
   "pygments_lexer": "ipython3",
   "version": "3.10.4"
  }
 },
 "nbformat": 4,
 "nbformat_minor": 5
}
