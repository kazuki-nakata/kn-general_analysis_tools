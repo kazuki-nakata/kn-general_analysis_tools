{
 "cells": [
  {
   "cell_type": "code",
   "execution_count": 2,
   "id": "a0cb8c31",
   "metadata": {},
   "outputs": [],
   "source": [
    "import sys\n",
    "import os\n",
    "sys.path.append(\"..\")\n",
    "from knool.remote_sensing.satellite import TLEsPerSat\n",
    "from knool.geodata_processor import geo_info,geo_geom,geo_io\n",
    "import pandas as pd\n",
    "from skyfield.api import load\n",
    "from datetime import datetime as dt\n",
    "from datetime import timedelta\n",
    "from skyfield.api import utc\n",
    "import numpy as np\n",
    "from osgeo import gdal, osr, ogr\n",
    "import importlib"
   ]
  },
  {
   "cell_type": "code",
   "execution_count": 206,
   "id": "c27b201f",
   "metadata": {
    "scrolled": true
   },
   "outputs": [
    {
     "name": "stdout",
     "output_type": "stream",
     "text": [
      "衛星名:  None\n",
      "元期:  A.D. 2015-Jun-23 03:50:23.3849 UTC\n",
      "衛星番号:  40697\n",
      "エポック年:  15\n",
      "エポック日:  174.15999288\n",
      "エポックのユリウス日:  2457196.5\n",
      "ndot:  -1.333237623051224e-12\n",
      "nddot:  0.0\n",
      "弾道抗力係数 B*:  0.0\n",
      "軌道傾斜角[rad]:  1.7206276070908537\n",
      "昇交点赤経[rad]:  4.337586504835915\n",
      "離心率:  7.98e-05\n",
      "近地点引数[rad]:  4.953066393576204\n",
      "平均近点角[rad]:  2.5043519997356394\n",
      "平均運動[rad/min]:  0.06244205289471824\n"
     ]
    }
   ],
   "source": [
    "#HOW_TO_USE_SKYFIELD\n",
    "##READ https://qiita.com/grinpeaceman/items/22f06714a98dbfacce88\n",
    "\n",
    "tles = load.tle_file(\"../knool/remote_sensing/data/two_line_elements/sat40697.txt\") # TLE読み込み\n",
    "satellite=tles[0]\n",
    "sgp4_model = satellite.model\n",
    "\n",
    "print(\"衛星名: \", satellite.name)\n",
    "print(\"元期: \", satellite.epoch.utc_jpl())\n",
    "print(\"衛星番号: \", sgp4_model.satnum)\n",
    "print(\"エポック年: \", sgp4_model.epochyr)\n",
    "print(\"エポック日: \", sgp4_model.epochdays)\n",
    "print(\"エポックのユリウス日: \", sgp4_model.jdsatepoch)\n",
    "print(\"ndot: \", sgp4_model.ndot)\n",
    "print(\"nddot: \", sgp4_model.nddot)\n",
    "print(\"弾道抗力係数 B*: \", sgp4_model.bstar)\n",
    "print(\"軌道傾斜角[rad]: \", sgp4_model.inclo)\n",
    "print(\"昇交点赤経[rad]: \", sgp4_model.nodeo)\n",
    "print(\"離心率: \", sgp4_model.ecco)\n",
    "print(\"近地点引数[rad]: \", sgp4_model.argpo)\n",
    "print(\"平均近点角[rad]: \", sgp4_model.mo)\n",
    "print(\"平均運動[rad/min]: \", sgp4_model.no_kozai)"
   ]
  },
  {
   "cell_type": "code",
   "execution_count": 207,
   "id": "061c5ecc",
   "metadata": {},
   "outputs": [
    {
     "name": "stdout",
     "output_type": "stream",
     "text": [
      "[-0.00141461  0.00399833  0.00070632] au/day\n",
      "[-9.51255273e-06  4.88624241e-06 -4.67440961e-05] au\n",
      "[-9.51255273e-06  4.88624241e-06 -4.67440961e-05] au\n",
      "-77.27650275778583 -162.68188667619526 815689.5183005631\n"
     ]
    }
   ],
   "source": [
    "#HOW_TO_USE_SKYFIELD\n",
    "##READ https://qiita.com/grinpeaceman/items/22f06714a98dbfacce88\n",
    "\n",
    "#get lat,lon,elevation from a tle\n",
    "ts = load.timescale()  # skyfiled上で時刻を扱うモジュール\n",
    "tle=tles[0]\n",
    "date1 = dt(2018, 2, 1, 12, 15, 30, 2000, tzinfo=utc)\n",
    "date1_sf=ts.from_datetime(date1)\n",
    "\n",
    "geocentric=tle.at(date1_sf) #get xyz\n",
    "subpoint = geocentric.subpoint()\n",
    "lat = subpoint.latitude.degrees\n",
    "lon = subpoint.longitude.degrees\n",
    "ele = subpoint.elevation.m\n",
    "print(geocentric.velocity)\n",
    "print(geocentric.position)\n",
    "print(geocentric.xyz)\n",
    "print(lat,lon,ele)"
   ]
  },
  {
   "cell_type": "code",
   "execution_count": 208,
   "id": "dfc6af69",
   "metadata": {
    "scrolled": true
   },
   "outputs": [
    {
     "name": "stdout",
     "output_type": "stream",
     "text": [
      "-77.27650275778583 -162.68188667619526 815689.5183005631\n",
      "-1516878.3505331452 -472981.10875354183 -6995304.199162436\n",
      "-77.27650276073706 -162.68188667619526 815689.5199458357\n"
     ]
    }
   ],
   "source": [
    "#convert lla/ecef from ecef/lla using our package.\n",
    "print(lat,lon,ele)\n",
    "x,y,z=geo_info.convert_lla_to_ecef(lat,lon,ele)\n",
    "print(x,y,z) # meter\n",
    "lat,lon,ele=geo_info.convert_ecef_to_lla(x,y,z)\n",
    "print(lat,lon,ele)"
   ]
  },
  {
   "cell_type": "code",
   "execution_count": 217,
   "id": "c9263bcf",
   "metadata": {},
   "outputs": [
    {
     "name": "stderr",
     "output_type": "stream",
     "text": [
      "/mnt/c/Users/Nakata Kazuki/Documents/プログラム/2022/kn-general_analysis_tools/kn-general_analysis_tools/notebook/../knool/remote_sensing/satellite.py:41: FutureWarning: Passing method to DatetimeIndex.get_loc is deprecated and will raise in a future version. Use index.get_indexer([item], method=...) instead.\n",
      "  row1=df.loc[df.index==df.index.unique()[df.index.unique().get_loc(pd.to_datetime(date), method='nearest')]]\n"
     ]
    }
   ],
   "source": [
    "#create a kml file of a orbit line\n",
    "infile=r\"../knool/remote_sensing/data/two_line_elements/sat27424.txt\"\n",
    "test=TLEsPerSat(infile)\n",
    "\n",
    "sdate=dt.strptime(\"2011-06-01 00:00:00\",'%Y-%m-%d %H:%M:%S')\n",
    "edate=dt.strptime(\"2011-07-02 11:40:00\",'%Y-%m-%d %H:%M:%S')\n",
    "test.set_period(sdate, edate)\n",
    "\n",
    "sdate=dt.strptime(\"2011-07-01 10:00:00\",'%Y-%m-%d %H:%M:%S')\n",
    "edate=dt.strptime(\"2011-07-01 11:40:00\",'%Y-%m-%d %H:%M:%S')\n",
    "test.calc_positions_between(sdate,edate,1)\n",
    "test.export(\"../../test_data/output/test.kml\")"
   ]
  },
  {
   "cell_type": "code",
   "execution_count": 218,
   "id": "3f1a67e9",
   "metadata": {},
   "outputs": [
    {
     "name": "stderr",
     "output_type": "stream",
     "text": [
      "/mnt/c/Users/Nakata Kazuki/Documents/プログラム/2022/kn-general_analysis_tools/kn-general_analysis_tools/notebook/../knool/remote_sensing/satellite.py:67: FutureWarning: Passing method to DatetimeIndex.get_loc is deprecated and will raise in a future version. Use index.get_indexer([item], method=...) instead.\n",
      "  row1=df.loc[df.index==df.index.unique()[df.index.unique().get_loc(pd.to_datetime(mdt), method='nearest')]]\n"
     ]
    }
   ],
   "source": [
    "#create a kml file of a orbit line\n",
    "test.calc_positions_faster_between(sdate,edate,1)\n",
    "test.export(\"../../test_data/output/test2.kml\")"
   ]
  },
  {
   "cell_type": "code",
   "execution_count": 219,
   "id": "6c70cf85",
   "metadata": {
    "scrolled": true
   },
   "outputs": [
    {
     "name": "stderr",
     "output_type": "stream",
     "text": [
      "/mnt/c/Users/Nakata Kazuki/Documents/プログラム/2022/kn-general_analysis_tools/kn-general_analysis_tools/notebook/../knool/remote_sensing/satellite.py:107: FutureWarning: Passing method to DatetimeIndex.get_loc is deprecated and will raise in a future version. Use index.get_indexer([item], method=...) instead.\n",
      "  row1=df.loc[df.index==df.index.unique()[df.index.unique().get_loc(pd.to_datetime(mdt), method='nearest')]]\n"
     ]
    }
   ],
   "source": [
    "#Creates a kml file of a polygon\n",
    "test.calc_buff_area_between(sdate,edate,1,1000000,ori=\"right\")\n",
    "test.export(\"../../test_data/output/test3.kml\")"
   ]
  },
  {
   "cell_type": "code",
   "execution_count": 220,
   "id": "077e54fa",
   "metadata": {},
   "outputs": [],
   "source": [
    "sdate=dt.strptime(\"2011-07-01 10:00:00\",'%Y-%m-%d %H:%M:%S')\n",
    "edate=dt.strptime(\"2011-07-01 11:40:00\",'%Y-%m-%d %H:%M:%S')\n",
    "test.calc_scene_areas(sdate,edate,1,1450000,6,ori=\"middle\")\n",
    "test.export(\"../../test_data/output/test4.kml\")"
   ]
  },
  {
   "cell_type": "code",
   "execution_count": 43,
   "id": "dfee04fb",
   "metadata": {
    "scrolled": true
   },
   "outputs": [],
   "source": [
    "from knool.remote_sensing import satellite\n",
    "importlib.reload(geo_info)\n",
    "importlib.reload(geo_geom)\n",
    "importlib.reload(geo_io)\n",
    "importlib.reload(satellite)\n",
    "\n",
    "\n",
    "shpfile=r\"../../test_data/matchup/AOI2.shp\"\n",
    "vector=ogr.Open(shpfile)\n",
    "layer=vector.GetLayer()\n",
    "geom_list=[]\n",
    "for feat in layer:\n",
    "    geom_list.append(feat.GetGeometryRef().Clone())\n",
    "\n",
    "trans_for=[]\n",
    "trans_back=[]\n",
    "for geom in geom_list:\n",
    "    lon,lat,_=geom.Centroid().GetPoint()\n",
    "    srs_pre=geo_info.get_shifted_wgs84_proj4(0)\n",
    "    srs_af=geo_info.get_orthographic_proj4(lat,lon,0,0)\n",
    "    trans_for.append(geo_info.get_coord_transform_proj4(srs_pre,srs_af))\n",
    "    trans_back.append(geo_info.get_coord_transform_proj4(srs_af,srs_pre))\n",
    "\n",
    "sdate=dt.strptime(\"2011-06-01 03:00:00\",'%Y-%m-%d %H:%M:%S')\n",
    "edate=dt.strptime(\"2011-06-02 05:00:00\",'%Y-%m-%d %H:%M:%S')\n",
    "\n",
    "infile=r\"../knool/remote_sensing/data/two_line_elements/sat38337.txt\"\n",
    "test=satellite.TLEsPerSat(infile)\n"
   ]
  },
  {
   "cell_type": "code",
   "execution_count": 47,
   "id": "6e5cd309",
   "metadata": {},
   "outputs": [],
   "source": [
    "# shpfile=r\"../../test_data/matchup/AOI.shp\"\n",
    "# vector=ogr.Open(shpfile)\n",
    "# layer=vector.GetLayer()\n",
    "# geom_list=[]\n",
    "# for feat in layer:\n",
    "#     geom_list.append(feat.GetGeometryRef().Clone())\n",
    "\n",
    "# trans_list=[]\n",
    "# for geom in geom_list:\n",
    "#     lon,lat,_=geom.Centroid().GetPoint()\n",
    "#     srs_pre=geo_info.get_shifted_wgs84_proj4(0)\n",
    "#     srs_af=geo_info.get_orthographic_proj4(lat,lon,0,0)\n",
    "#     trans_fore=geo_info.get_coord_transform_proj4(srs_pre,srs_af)\n",
    "#     trans_back=geo_info.get_coord_transform_proj4(srs_af,srs_pre)\n",
    "#     trans_list.append([trans_fore,trans_back])\n",
    "\n",
    "sdate=dt.strptime(\"2011-06-01 03:00:00\",'%Y-%m-%d %H:%M:%S')\n",
    "edate=dt.strptime(\"2011-06-02 05:00:00\",'%Y-%m-%d %H:%M:%S')\n",
    "test.calc_scene_areas(sdate,edate,1,2330000,2,ori=\"middle\")\n",
    "test.export(\"../../test_data/output/test4.kml\")\n",
    "\n",
    "result,result2 = test.calc_intersect_scene_areas(sdate,edate,1,2330000,2,geom_list,trans_for,ori=\"middle\")\n",
    "result=test.transform(result,trans_back)\n",
    "#print(len(result[0]),result)\n",
    "test.export(r\"../../test_data/output/test5.shp\",option=0)\n",
    "result=test.transform(result2,trans_back)\n",
    "test.export(r\"../../test_data/output/test6.kml\",option=0)\n"
   ]
  },
  {
   "cell_type": "code",
   "execution_count": 53,
   "id": "37b0a7ca",
   "metadata": {},
   "outputs": [
    {
     "name": "stdout",
     "output_type": "stream",
     "text": [
      "38337\n"
     ]
    },
    {
     "name": "stderr",
     "output_type": "stream",
     "text": [
      "/mnt/c/Users/Nakata Kazuki/Documents/プログラム/2022/kn-general_analysis_tools/kn-general_analysis_tools/notebook/../knool/remote_sensing/satellite.py:108: FutureWarning: Passing method to DatetimeIndex.get_loc is deprecated and will raise in a future version. Use index.get_indexer([item], method=...) instead.\n",
      "  row1=df.loc[df.index==df.index.unique()[df.index.unique().get_loc(pd.to_datetime(mdt), method='nearest')]]\n"
     ]
    }
   ],
   "source": [
    "sensor_name=\"amsr2\"\n",
    "sensor1=satellite.Sensor(sensor_name)\n",
    "# sensor_name=\"modis\"\n",
    "# sensor2=satellite.Sensor(sensor_name)\n",
    "print(sensor1.ncid)\n",
    "sdate=dt.strptime(\"2011-06-01 03:00:00\",'%Y-%m-%d %H:%M:%S')\n",
    "edate=dt.strptime(\"2011-06-01 04:00:00\",'%Y-%m-%d %H:%M:%S')\n",
    "\n",
    "geom_s1_llist00,_=sensor1.calc_intersect_scene_areas(sdate,edate,1,2,geom_list,trans_for,scene_all=True)\n",
    "geom_s1_llist0,attr_s1_dlist=sensor1.union_adjacent_scenes(geom_s1_llist00)\n",
    "geom_s1_llist=sensor1.transform(geom_s1_llist0,trans_back)\n",
    "sensor1.export(r\"../../test_data/output/test7.shp\",option=0)\n",
    "# sensor1.export(r\"../../test_data/output/final2.shp\",option=0)"
   ]
  },
  {
   "cell_type": "code",
   "execution_count": null,
   "id": "f247547a",
   "metadata": {},
   "outputs": [],
   "source": []
  }
 ],
 "metadata": {
  "interpreter": {
   "hash": "b3d8a036a58388e518fc58e3842fffe21e9c66e983ca7dfccc1ecea3c03f97f9"
  },
  "kernelspec": {
   "display_name": "Python 3.10.4 ('base4')",
   "language": "python",
   "name": "python3"
  },
  "language_info": {
   "codemirror_mode": {
    "name": "ipython",
    "version": 3
   },
   "file_extension": ".py",
   "mimetype": "text/x-python",
   "name": "python",
   "nbconvert_exporter": "python",
   "pygments_lexer": "ipython3",
   "version": "3.10.4"
  }
 },
 "nbformat": 4,
 "nbformat_minor": 5
}
