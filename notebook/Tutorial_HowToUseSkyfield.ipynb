{
 "cells": [
  {
   "cell_type": "code",
   "execution_count": 1,
   "id": "a0cb8c31",
   "metadata": {},
   "outputs": [],
   "source": [
    "import sys\n",
    "import os\n",
    "sys.path.append(\"..\")\n",
    "from knool.remote_sensing.satellite import tles_for_asat\n",
    "from knool.geodata_processor import geo_info\n",
    "import pandas as pd\n",
    "from skyfield.api import load\n",
    "from datetime import datetime as dt\n",
    "from datetime import timedelta\n",
    "from skyfield.api import utc\n",
    "import numpy as np\n",
    "from osgeo import gdal, osr, ogr"
   ]
  },
  {
   "cell_type": "code",
   "execution_count": 2,
   "id": "c27b201f",
   "metadata": {
    "scrolled": true
   },
   "outputs": [
    {
     "name": "stdout",
     "output_type": "stream",
     "text": [
      "衛星名:  None\n",
      "元期:  A.D. 2015-Jun-23 03:50:23.3849 UTC\n",
      "衛星番号:  40697\n",
      "エポック年:  15\n",
      "エポック日:  174.15999288\n",
      "エポックのユリウス日:  2457196.5\n",
      "ndot:  -1.333237623051224e-12\n",
      "nddot:  0.0\n",
      "弾道抗力係数 B*:  0.0\n",
      "軌道傾斜角[rad]:  1.7206276070908537\n",
      "昇交点赤経[rad]:  4.337586504835915\n",
      "離心率:  7.98e-05\n",
      "近地点引数[rad]:  4.953066393576204\n",
      "平均近点角[rad]:  2.5043519997356394\n",
      "平均運動[rad/min]:  0.06244205289471824\n"
     ]
    }
   ],
   "source": [
    "##READ tle file. https://qiita.com/grinpeaceman/items/22f06714a98dbfacce88\n",
    "\n",
    "tles = load.tle_file(\"../knool/remote_sensing/data/two_line_elements/sat40697.txt\") # TLE読み込み\n",
    "satellite=tles[0]\n",
    "sgp4_model = satellite.model\n",
    "\n",
    "print(\"衛星名: \", satellite.name)\n",
    "print(\"元期: \", satellite.epoch.utc_jpl())\n",
    "print(\"衛星番号: \", sgp4_model.satnum)\n",
    "print(\"エポック年: \", sgp4_model.epochyr)\n",
    "print(\"エポック日: \", sgp4_model.epochdays)\n",
    "print(\"エポックのユリウス日: \", sgp4_model.jdsatepoch)\n",
    "print(\"ndot: \", sgp4_model.ndot)\n",
    "print(\"nddot: \", sgp4_model.nddot)\n",
    "print(\"弾道抗力係数 B*: \", sgp4_model.bstar)\n",
    "print(\"軌道傾斜角[rad]: \", sgp4_model.inclo)\n",
    "print(\"昇交点赤経[rad]: \", sgp4_model.nodeo)\n",
    "print(\"離心率: \", sgp4_model.ecco)\n",
    "print(\"近地点引数[rad]: \", sgp4_model.argpo)\n",
    "print(\"平均近点角[rad]: \", sgp4_model.mo)\n",
    "print(\"平均運動[rad/min]: \", sgp4_model.no_kozai)"
   ]
  },
  {
   "cell_type": "code",
   "execution_count": 3,
   "id": "061c5ecc",
   "metadata": {},
   "outputs": [
    {
     "name": "stdout",
     "output_type": "stream",
     "text": [
      "[-0.00141461  0.00399833  0.00070632] au/day\n",
      "[-9.51255273e-06  4.88624241e-06 -4.67440961e-05] au\n",
      "[-9.51255273e-06  4.88624241e-06 -4.67440961e-05] au\n",
      "-77.27650275778588 -162.68188667619506 815689.5183005581\n"
     ]
    }
   ],
   "source": [
    "#get lat,lon,elevation from a tle\n",
    "ts = load.timescale()  # skyfiled上で時刻を扱うモジュール\n",
    "tle=tles[0]\n",
    "date1 = dt(2018, 2, 1, 12, 15, 30, 2000, tzinfo=utc)\n",
    "date1_sf=ts.from_datetime(date1)\n",
    "\n",
    "geocentric=tle.at(date1_sf) #get xyz\n",
    "subpoint = geocentric.subpoint()\n",
    "lat = subpoint.latitude.degrees\n",
    "lon = subpoint.longitude.degrees\n",
    "ele = subpoint.elevation.m\n",
    "print(geocentric.velocity)\n",
    "print(geocentric.position)\n",
    "print(geocentric.xyz)\n",
    "print(lat,lon,ele)"
   ]
  },
  {
   "cell_type": "code",
   "execution_count": 4,
   "id": "dfc6af69",
   "metadata": {
    "scrolled": true
   },
   "outputs": [
    {
     "name": "stdout",
     "output_type": "stream",
     "text": [
      "-77.27650275778588 -162.68188667619506 815689.5183005581\n",
      "-1516878.3505331383 -472981.10875354544 -6995304.199162432\n",
      "-77.2765027607371 -162.68188667619506 815689.519945832\n"
     ]
    }
   ],
   "source": [
    "#convert lla/ecef from ecef/lla using our package.\n",
    "print(lat,lon,ele)\n",
    "x,y,z=geo_info.convert_lla_to_ecef(lat,lon,ele)\n",
    "print(x,y,z) # meter\n",
    "lat,lon,ele=geo_info.convert_ecef_to_lla(x,y,z)\n",
    "print(lat,lon,ele)"
   ]
  },
  {
   "cell_type": "code",
   "execution_count": 5,
   "id": "c9263bcf",
   "metadata": {},
   "outputs": [
    {
     "name": "stderr",
     "output_type": "stream",
     "text": [
      "d:\\プログラム\\2022\\kn-general_analysis_tools\\notebook\\..\\knool\\remote_sensing\\satellite.py:40: FutureWarning: Passing method to DatetimeIndex.get_loc is deprecated and will raise in a future version. Use index.get_indexer([item], method=...) instead.\n",
      "  row1=df.loc[df.index==df.index.unique()[df.index.unique().get_loc(pd.to_datetime(date), method='nearest')]]\n"
     ]
    }
   ],
   "source": [
    "#create a kml file of a orbit line\n",
    "infile=r\"../knool/remote_sensing/data/two_line_elements/sat27424.txt\"\n",
    "test=tles_for_asat(infile)\n",
    "test.set_period(\"2011-06-30 10:00:00\",\"2011-07-02 11:40:00\")\n",
    "test.calc_positions_between(\"2011-07-01 10:00:00\",\"2011-07-01 11:40:00\",1)\n",
    "test.export(\"../../test_data/output/test.kml\")"
   ]
  },
  {
   "cell_type": "code",
   "execution_count": 6,
   "id": "3f1a67e9",
   "metadata": {},
   "outputs": [],
   "source": [
    "#Creates a kml file of a line that are a specified distance away from the orbital line.\n",
    "test.calc_buff_positions_between(\"2011-07-01 10:00:00\",\"2011-07-01 11:40:00\",1,1000000,ori=\"left\")\n",
    "test.export(\"../../test_data/output/test2.kml\")"
   ]
  },
  {
   "cell_type": "code",
   "execution_count": 7,
   "id": "6c70cf85",
   "metadata": {
    "scrolled": true
   },
   "outputs": [],
   "source": [
    "#Creates a kml file of a polygon\n",
    "test.calc_buff_area_between(\"2011-07-01 10:00:00\",\"2011-07-01 11:00:00\",0.5,1000000,ori=\"left\")\n",
    "test.export(\"../../test_data/output/test3.kml\")"
   ]
  },
  {
   "cell_type": "code",
   "execution_count": 8,
   "id": "dfee04fb",
   "metadata": {
    "scrolled": true
   },
   "outputs": [
    {
     "name": "stderr",
     "output_type": "stream",
     "text": [
      "d:\\プログラム\\2022\\kn-general_analysis_tools\\notebook\\..\\knool\\remote_sensing\\satellite.py:65: FutureWarning: Passing method to DatetimeIndex.get_loc is deprecated and will raise in a future version. Use index.get_indexer([item], method=...) instead.\n",
      "  row1=df.loc[df.index==df.index.unique()[df.index.unique().get_loc(pd.to_datetime(mdt), method='nearest')]]\n"
     ]
    }
   ],
   "source": [
    "#create a kml file of a orbit line\n",
    "test.calc_positions_faster_between(\"2011-07-01 10:00:00\",\"2011-07-01 11:40:00\",1)\n",
    "test.export(\"../../test_data/output/test4.kml\")"
   ]
  },
  {
   "cell_type": "code",
   "execution_count": 25,
   "id": "6e5cd309",
   "metadata": {},
   "outputs": [
    {
     "name": "stdout",
     "output_type": "stream",
     "text": [
      "(2,) (2,) (2,)\n",
      "(2,) (2,) (2,)\n",
      "[5988271.43195243 5517606.6496463 ] [2180736.23729006 3186875.81923829] [ 11122.97767587 122345.30041322]\n",
      "[array([1112.29663252, 1097.10074162])\n",
      " array([1059.78695452, 1112.09334355])] [array([11122.97767587, 11118.08118891])\n",
      " array([11121.11418841, 11122.9793696 ])] [array([ -9.80369781, 377.58830589]) array([-393.93983351,   -9.80366529])]\n",
      "[array([0.00990097, 0.00964328]) array([0.00899942, 0.00989738])]\n",
      "(2,)\n"
     ]
    },
    {
     "name": "stderr",
     "output_type": "stream",
     "text": [
      "d:\\プログラム\\2022\\kn-general_analysis_tools\\notebook\\..\\knool\\geodata_processor\\geo_info.py:228: VisibleDeprecationWarning: Creating an ndarray from ragged nested sequences (which is a list-or-tuple of lists-or-tuples-or ndarrays with different lengths or shapes) is deprecated. If you meant to do this, you must specify 'dtype=object' when creating the ndarray.\n",
      "  Ry = np.array([[np.cos(py), 0, -np.sin(py)],\n",
      "d:\\プログラム\\2022\\kn-general_analysis_tools\\notebook\\..\\knool\\geodata_processor\\geo_info.py:232: VisibleDeprecationWarning: Creating an ndarray from ragged nested sequences (which is a list-or-tuple of lists-or-tuples-or ndarrays with different lengths or shapes) is deprecated. If you meant to do this, you must specify 'dtype=object' when creating the ndarray.\n",
      "  Rz = np.array([[np.cos(pz), np.sin(pz), 0],\n"
     ]
    },
    {
     "ename": "TypeError",
     "evalue": "loop of ufunc does not support argument 0 of type numpy.ndarray which has no callable sqrt method",
     "output_type": "error",
     "traceback": [
      "\u001b[1;31m---------------------------------------------------------------------------\u001b[0m",
      "\u001b[1;31mAttributeError\u001b[0m                            Traceback (most recent call last)",
      "\u001b[1;31mAttributeError\u001b[0m: 'numpy.ndarray' object has no attribute 'sqrt'",
      "\nThe above exception was the direct cause of the following exception:\n",
      "\u001b[1;31mTypeError\u001b[0m                                 Traceback (most recent call last)",
      "\u001b[1;32md:\\プログラム\\2022\\kn-general_analysis_tools\\notebook\\Tutorial_HowToUseSkyfield.ipynb Cell 9'\u001b[0m in \u001b[0;36m<cell line: 107>\u001b[1;34m()\u001b[0m\n\u001b[0;32m    <a href='vscode-notebook-cell:/d%3A/%E3%83%97%E3%83%AD%E3%82%B0%E3%83%A9%E3%83%A0/2022/kn-general_analysis_tools/notebook/Tutorial_HowToUseSkyfield.ipynb#ch0000008?line=102'>103</a>\u001b[0m h2\u001b[39m=\u001b[39mnp\u001b[39m.\u001b[39marray([\u001b[39m0\u001b[39m,\u001b[39m0\u001b[39m])\n\u001b[0;32m    <a href='vscode-notebook-cell:/d%3A/%E3%83%97%E3%83%AD%E3%82%B0%E3%83%A9%E3%83%A0/2022/kn-general_analysis_tools/notebook/Tutorial_HowToUseSkyfield.ipynb#ch0000008?line=104'>105</a>\u001b[0m \u001b[39m#lat1=0;lon1=20;h1=0;lat2=0.1;lon2=20.01;h2=0\u001b[39;00m\n\u001b[0;32m    <a href='vscode-notebook-cell:/d%3A/%E3%83%97%E3%83%AD%E3%82%B0%E3%83%A9%E3%83%A0/2022/kn-general_analysis_tools/notebook/Tutorial_HowToUseSkyfield.ipynb#ch0000008?line=105'>106</a>\u001b[0m \u001b[39m#lat1=1;lon1=30;h1=0;lat2=1.1;lon2=30.01;h2=0\u001b[39;00m\n\u001b[1;32m--> <a href='vscode-notebook-cell:/d%3A/%E3%83%97%E3%83%AD%E3%82%B0%E3%83%A9%E3%83%A0/2022/kn-general_analysis_tools/notebook/Tutorial_HowToUseSkyfield.ipynb#ch0000008?line=106'>107</a>\u001b[0m test\u001b[39m=\u001b[39mcalc_line_buffer_point(lat1,lon1,h1,lat2,lon2,h2,\u001b[39m100000\u001b[39;49m,ori\u001b[39m=\u001b[39;49m\u001b[39m\"\u001b[39;49m\u001b[39mright\u001b[39;49m\u001b[39m\"\u001b[39;49m)\n\u001b[0;32m    <a href='vscode-notebook-cell:/d%3A/%E3%83%97%E3%83%AD%E3%82%B0%E3%83%A9%E3%83%A0/2022/kn-general_analysis_tools/notebook/Tutorial_HowToUseSkyfield.ipynb#ch0000008?line=107'>108</a>\u001b[0m \u001b[39mprint\u001b[39m(test)\n",
      "\u001b[1;32md:\\プログラム\\2022\\kn-general_analysis_tools\\notebook\\Tutorial_HowToUseSkyfield.ipynb Cell 9'\u001b[0m in \u001b[0;36mcalc_line_buffer_point\u001b[1;34m(lat0, lon0, h0, lat, lon, h, distance, ori)\u001b[0m\n\u001b[0;32m     <a href='vscode-notebook-cell:/d%3A/%E3%83%97%E3%83%AD%E3%82%B0%E3%83%A9%E3%83%A0/2022/kn-general_analysis_tools/notebook/Tutorial_HowToUseSkyfield.ipynb#ch0000008?line=85'>86</a>\u001b[0m \u001b[39mprint\u001b[39m(coef)\n\u001b[0;32m     <a href='vscode-notebook-cell:/d%3A/%E3%83%97%E3%83%AD%E3%82%B0%E3%83%A9%E3%83%A0/2022/kn-general_analysis_tools/notebook/Tutorial_HowToUseSkyfield.ipynb#ch0000008?line=86'>87</a>\u001b[0m \u001b[39mprint\u001b[39m(coef\u001b[39m.\u001b[39mshape)\n\u001b[1;32m---> <a href='vscode-notebook-cell:/d%3A/%E3%83%97%E3%83%AD%E3%82%B0%E3%83%A9%E3%83%A0/2022/kn-general_analysis_tools/notebook/Tutorial_HowToUseSkyfield.ipynb#ch0000008?line=87'>88</a>\u001b[0m q2 \u001b[39m=\u001b[39m np\u001b[39m.\u001b[39;49msqrt(distance2\u001b[39m*\u001b[39;49m\u001b[39m*\u001b[39;49m\u001b[39m2\u001b[39;49m \u001b[39m*\u001b[39;49m coef)\n\u001b[0;32m     <a href='vscode-notebook-cell:/d%3A/%E3%83%97%E3%83%AD%E3%82%B0%E3%83%A9%E3%83%A0/2022/kn-general_analysis_tools/notebook/Tutorial_HowToUseSkyfield.ipynb#ch0000008?line=88'>89</a>\u001b[0m q2\u001b[39m=\u001b[39m sign\u001b[39m*\u001b[39mq2\n\u001b[0;32m     <a href='vscode-notebook-cell:/d%3A/%E3%83%97%E3%83%AD%E3%82%B0%E3%83%A9%E3%83%A0/2022/kn-general_analysis_tools/notebook/Tutorial_HowToUseSkyfield.ipynb#ch0000008?line=89'>90</a>\u001b[0m p2 \u001b[39m=\u001b[39m \u001b[39m-\u001b[39mq\u001b[39m*\u001b[39mq2\u001b[39m/\u001b[39mp\n",
      "\u001b[1;31mTypeError\u001b[0m: loop of ufunc does not support argument 0 of type numpy.ndarray which has no callable sqrt method"
     ]
    }
   ],
   "source": [
    "# #Creates a kml file of a line that are a specified distance away from the orbital line.\n",
    "# test.calc_buff_positions_faster_between(\"2011-07-01 10:00:00\",\"2011-07-01 11:40:00\",1,1000000,ori=\"left\")\n",
    "# test.export(\"../../test_data/output/test2.kml\")\n",
    "\n",
    "\n",
    "def convert_enu_to_ecef(x0, y0, z0, lat0, lon0, h0, x, y, z):\n",
    "\n",
    "    if type(lat0).__module__ != \"numpy\":\n",
    "        proc=2\n",
    "    elif isinstance(lat0.shape,tuple):\n",
    "        proc=2\n",
    "    else:\n",
    "        proc=1\n",
    "\n",
    "    if proc==1:\n",
    "        \n",
    "        px=np.radians([90 for i in range(x0.shape[0])])\n",
    "        py=np.radians(90-lat0)\n",
    "        pz=np.radians(lon0)\n",
    "        pz2=np.radians([90 for i in range(x0.shape[0])])\n",
    "        p2=np.array([x,y,z])\n",
    "        p0=np.array([x0,y0,z0])\n",
    "        dp=p1-p0\n",
    "        \n",
    "        Ry = np.array([[np.cos(py), np.zeros(x0.shape), -np.sin(py)],\n",
    "                    [np.zeros(x0.shape), np.ones(x0.shape), np.zeros(x0.shape)],\n",
    "                    [np.sin(py), np.zeros(x0.shape), np.cos(py)]]).transpose([2,0,1])\n",
    "        \n",
    "        Rz = np.array([[np.cos(pz), np.sin(pz), np.zeros(x0.shape)],\n",
    "                    [-np.sin(pz), np.cos(pz), np.zeros(x0.shape)],\n",
    "                    [np.zeros(x0.shape), np.zeros(x0.shape), np.ones(x0.shape)]]).transpose([2,0,1])\n",
    "        \n",
    "        Rz2 = np.array([[np.cos(pz2), np.sin(pz2), np.zeros(x0.shape)],\n",
    "                    [-np.sin(pz2), np.cos(pz2), np.zeros(x0.shape)],\n",
    "                    [np.zeros(x0.shape), np.zeros(x0.shape), np.ones(x0.shape)]]).transpose([2,0,1])\n",
    "        \n",
    "        R = np.linalg.inv(np.matmul(np.matmul(Rz2,Ry),Rz))\n",
    "        print(R.shape,dp.shape)\n",
    "        result= R.dot(dp) + p0\n",
    "        x=np.diag(result[:,0,:])\n",
    "        y=np.diag(result[:,1,:])\n",
    "        z=np.diag(result[:,2,:])\n",
    "\n",
    "    else:\n",
    "        px=np.radians(90)\n",
    "        py=np.radians(90-lat0)\n",
    "        pz=np.radians(lon0)\n",
    "        pz2=np.radians(90)\n",
    "        p2=np.array([x,y,z])\n",
    "        p0=np.array([x0,y0,z0])\n",
    "\n",
    "        Ry = np.array([[np.cos(py), 0, -np.sin(py)],\n",
    "                    [0, 1, 0],\n",
    "                    [np.sin(py), 0, np.cos(py)]])\n",
    "        \n",
    "        Rz = np.array([[np.cos(pz), np.sin(pz), 0],\n",
    "                    [-np.sin(pz), np.cos(pz), 0],\n",
    "                    [0, 0, 1]])\n",
    "        \n",
    "        Rz2 = np.array([[np.cos(pz2), np.sin(pz2), 0],\n",
    "                    [-np.sin(pz2), np.cos(pz2), 0],\n",
    "                    [0, 0, 1]])\n",
    "\n",
    "        R = np.linalg.inv(Rz2.dot(Ry).dot(Rz))\n",
    "        p1 = R.dot(p2) + p0\n",
    "                \n",
    "    return p1\n",
    "\n",
    "\n",
    "def calc_line_buffer_point(lat0,lon0,h0,lat,lon,h,distance,ori=\"right\"):\n",
    "    R=6373000.0\n",
    "    x0, y0, z0 = geo_info.convert_lla_to_ecef(lat0, lon0, h0, a=R, b=R)\n",
    "    x, y, z = geo_info.convert_lla_to_ecef(lat, lon, h, a=R, b=R)    \n",
    "    p, q, r = geo_info.convert_ecef_to_enu(x0, y0, z0, lat0, lon0 , h0, x, y, z)\n",
    "    print(p.shape,q.shape,r.shape)\n",
    "    print(x.shape,y.shape,z.shape)\n",
    "    print(x,y,z)\n",
    "    print(p,q,r)\n",
    "    sign=1\n",
    "    if ori==\"left\" : sign=-1\n",
    "    \n",
    "    theta=distance/R\n",
    "    tan_th=np.tan(theta)\n",
    "    distance2=R*tan_th\n",
    "    coef=1/(q*q/(p*p)+1)\n",
    "    print(coef)\n",
    "    print(coef.shape)\n",
    "    q2 = np.sqrt(distance2**2 * coef)\n",
    "    q2= sign*q2\n",
    "    p2 = -q*q2/p\n",
    "    r2 = 0\n",
    "\n",
    "    buff_ecef=convert_enu_to_ecef(x0, y0, z0, lat0, lon0 , h0, p2, q2, r2)\n",
    "    lat,lon,h=geo_info.convert_ecef_to_lla(*buff_ecef, a=R, b=R)\n",
    "    \n",
    "    return lat, lon, h\n",
    "\n",
    "lat1=np.array([0,1])\n",
    "lon1=np.array([20,30])\n",
    "lat2=np.array([0.1,1.1])\n",
    "lon2=np.array([20.01,30.01])\n",
    "h1=np.array([0,0])\n",
    "h2=np.array([0,0])\n",
    "\n",
    "#lat1=0;lon1=20;h1=0;lat2=0.1;lon2=20.01;h2=0\n",
    "#lat1=1;lon1=30;h1=0;lat2=1.1;lon2=30.01;h2=0\n",
    "test=calc_line_buffer_point(lat1,lon1,h1,lat2,lon2,h2,100000,ori=\"right\")\n",
    "print(test)\n"
   ]
  },
  {
   "cell_type": "code",
   "execution_count": 10,
   "id": "37b0a7ca",
   "metadata": {},
   "outputs": [
    {
     "ename": "NameError",
     "evalue": "name 'proc' is not defined",
     "output_type": "error",
     "traceback": [
      "\u001b[1;31m---------------------------------------------------------------------------\u001b[0m",
      "\u001b[1;31mNameError\u001b[0m                                 Traceback (most recent call last)",
      "\u001b[1;32md:\\プログラム\\2022\\kn-general_analysis_tools\\notebook\\Tutorial_HowToUseSkyfield.ipynb Cell 10'\u001b[0m in \u001b[0;36m<cell line: 4>\u001b[1;34m()\u001b[0m\n\u001b[0;32m      <a href='vscode-notebook-cell:/d%3A/%E3%83%97%E3%83%AD%E3%82%B0%E3%83%A9%E3%83%A0/2022/kn-general_analysis_tools/notebook/Tutorial_HowToUseSkyfield.ipynb#ch0000009?line=0'>1</a>\u001b[0m lat0\u001b[39m=\u001b[39mnp\u001b[39m.\u001b[39marray(\u001b[39m0.1\u001b[39m)\n\u001b[1;32m----> <a href='vscode-notebook-cell:/d%3A/%E3%83%97%E3%83%AD%E3%82%B0%E3%83%A9%E3%83%A0/2022/kn-general_analysis_tools/notebook/Tutorial_HowToUseSkyfield.ipynb#ch0000009?line=3'>4</a>\u001b[0m \u001b[39mprint\u001b[39m(proc)\n\u001b[0;32m      <a href='vscode-notebook-cell:/d%3A/%E3%83%97%E3%83%AD%E3%82%B0%E3%83%A9%E3%83%A0/2022/kn-general_analysis_tools/notebook/Tutorial_HowToUseSkyfield.ipynb#ch0000009?line=4'>5</a>\u001b[0m \u001b[39mprint\u001b[39m(lat0)\n\u001b[0;32m      <a href='vscode-notebook-cell:/d%3A/%E3%83%97%E3%83%AD%E3%82%B0%E3%83%A9%E3%83%A0/2022/kn-general_analysis_tools/notebook/Tutorial_HowToUseSkyfield.ipynb#ch0000009?line=5'>6</a>\u001b[0m \u001b[39mprint\u001b[39m(\u001b[39mtype\u001b[39m(lat0))\n",
      "\u001b[1;31mNameError\u001b[0m: name 'proc' is not defined"
     ]
    }
   ],
   "source": [
    "(0.08945403663565143, 19.10542164823447, 784.6403572112322)\n"
   ]
  }
 ],
 "metadata": {
  "interpreter": {
   "hash": "0570fe082f92d4ecb80ee9910e7696096cf751eccd329d61e0062cd5b7a254a7"
  },
  "kernelspec": {
   "display_name": "Python 3.9.12 ('main')",
   "language": "python",
   "name": "python3"
  },
  "language_info": {
   "codemirror_mode": {
    "name": "ipython",
    "version": 3
   },
   "file_extension": ".py",
   "mimetype": "text/x-python",
   "name": "python",
   "nbconvert_exporter": "python",
   "pygments_lexer": "ipython3",
   "version": "3.9.12"
  }
 },
 "nbformat": 4,
 "nbformat_minor": 5
}
