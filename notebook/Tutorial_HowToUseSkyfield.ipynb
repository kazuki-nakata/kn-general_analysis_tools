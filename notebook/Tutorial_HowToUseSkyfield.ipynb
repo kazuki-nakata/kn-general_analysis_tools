{
 "cells": [
  {
   "cell_type": "code",
   "execution_count": 1,
   "id": "a0cb8c31",
   "metadata": {},
   "outputs": [],
   "source": [
    "import sys\n",
    "import os\n",
    "sys.path.append(\"..\")\n",
    "from knool.remote_sensing.satellite import tles_for_asat\n",
    "from knool.geodata_processor import geo_info\n",
    "import pandas as pd\n",
    "from skyfield.api import load\n",
    "from datetime import datetime as dt\n",
    "from datetime import timedelta\n",
    "from skyfield.api import utc\n",
    "import numpy as np\n",
    "from osgeo import gdal, osr, ogr"
   ]
  },
  {
   "cell_type": "code",
   "execution_count": 2,
   "id": "c27b201f",
   "metadata": {
    "scrolled": true
   },
   "outputs": [
    {
     "name": "stdout",
     "output_type": "stream",
     "text": [
      "衛星名:  None\n",
      "元期:  A.D. 2015-Jun-23 03:50:23.3849 UTC\n",
      "衛星番号:  40697\n",
      "エポック年:  15\n",
      "エポック日:  174.15999288\n",
      "エポックのユリウス日:  2457196.5\n",
      "ndot:  -1.333237623051224e-12\n",
      "nddot:  0.0\n",
      "弾道抗力係数 B*:  0.0\n",
      "軌道傾斜角[rad]:  1.7206276070908537\n",
      "昇交点赤経[rad]:  4.337586504835915\n",
      "離心率:  7.98e-05\n",
      "近地点引数[rad]:  4.953066393576204\n",
      "平均近点角[rad]:  2.5043519997356394\n",
      "平均運動[rad/min]:  0.06244205289471824\n"
     ]
    }
   ],
   "source": [
    "##READ tle file. https://qiita.com/grinpeaceman/items/22f06714a98dbfacce88\n",
    "\n",
    "tles = load.tle_file(\"../knool/remote_sensing/data/two_line_elements/sat40697.txt\") # TLE読み込み\n",
    "satellite=tles[0]\n",
    "sgp4_model = satellite.model\n",
    "\n",
    "print(\"衛星名: \", satellite.name)\n",
    "print(\"元期: \", satellite.epoch.utc_jpl())\n",
    "print(\"衛星番号: \", sgp4_model.satnum)\n",
    "print(\"エポック年: \", sgp4_model.epochyr)\n",
    "print(\"エポック日: \", sgp4_model.epochdays)\n",
    "print(\"エポックのユリウス日: \", sgp4_model.jdsatepoch)\n",
    "print(\"ndot: \", sgp4_model.ndot)\n",
    "print(\"nddot: \", sgp4_model.nddot)\n",
    "print(\"弾道抗力係数 B*: \", sgp4_model.bstar)\n",
    "print(\"軌道傾斜角[rad]: \", sgp4_model.inclo)\n",
    "print(\"昇交点赤経[rad]: \", sgp4_model.nodeo)\n",
    "print(\"離心率: \", sgp4_model.ecco)\n",
    "print(\"近地点引数[rad]: \", sgp4_model.argpo)\n",
    "print(\"平均近点角[rad]: \", sgp4_model.mo)\n",
    "print(\"平均運動[rad/min]: \", sgp4_model.no_kozai)"
   ]
  },
  {
   "cell_type": "code",
   "execution_count": 3,
   "id": "061c5ecc",
   "metadata": {},
   "outputs": [
    {
     "name": "stdout",
     "output_type": "stream",
     "text": [
      "[-0.00141461  0.00399833  0.00070632] au/day\n",
      "[-9.51255273e-06  4.88624241e-06 -4.67440961e-05] au\n",
      "[-9.51255273e-06  4.88624241e-06 -4.67440961e-05] au\n",
      "-77.27650275778583 -162.68188667619526 815689.5183005631\n"
     ]
    }
   ],
   "source": [
    "#get lat,lon,elevation from a tle\n",
    "ts = load.timescale()  # skyfiled上で時刻を扱うモジュール\n",
    "tle=tles[0]\n",
    "date1 = dt(2018, 2, 1, 12, 15, 30, 2000, tzinfo=utc)\n",
    "date1_sf=ts.from_datetime(date1)\n",
    "\n",
    "geocentric=tle.at(date1_sf) #get xyz\n",
    "subpoint = geocentric.subpoint()\n",
    "lat = subpoint.latitude.degrees\n",
    "lon = subpoint.longitude.degrees\n",
    "ele = subpoint.elevation.m\n",
    "print(geocentric.velocity)\n",
    "print(geocentric.position)\n",
    "print(geocentric.xyz)\n",
    "print(lat,lon,ele)"
   ]
  },
  {
   "cell_type": "code",
   "execution_count": 4,
   "id": "dfc6af69",
   "metadata": {
    "scrolled": true
   },
   "outputs": [
    {
     "name": "stdout",
     "output_type": "stream",
     "text": [
      "-77.27650275778583 -162.68188667619526 815689.5183005631\n",
      "-1516878.3505331452 -472981.10875354183 -6995304.199162436\n",
      "-77.27650276073706 -162.68188667619526 815689.5199458357\n"
     ]
    }
   ],
   "source": [
    "#convert lla/ecef from ecef/lla using our package.\n",
    "print(lat,lon,ele)\n",
    "x,y,z=geo_info.convert_lla_to_ecef(lat,lon,ele)\n",
    "print(x,y,z) # meter\n",
    "lat,lon,ele=geo_info.convert_ecef_to_lla(x,y,z)\n",
    "print(lat,lon,ele)"
   ]
  },
  {
   "cell_type": "code",
   "execution_count": 5,
   "id": "c9263bcf",
   "metadata": {},
   "outputs": [
    {
     "name": "stderr",
     "output_type": "stream",
     "text": [
      "/mnt/c/Users/Nakata Kazuki/Documents/プログラム/2022/kn-general_analysis_tools/kn-general_analysis_tools/notebook/../knool/remote_sensing/satellite.py:40: FutureWarning: Passing method to DatetimeIndex.get_loc is deprecated and will raise in a future version. Use index.get_indexer([item], method=...) instead.\n",
      "  row1=df.loc[df.index==df.index.unique()[df.index.unique().get_loc(pd.to_datetime(date), method='nearest')]]\n"
     ]
    }
   ],
   "source": [
    "#create a kml file of a orbit line\n",
    "infile=r\"../knool/remote_sensing/data/two_line_elements/sat27424.txt\"\n",
    "test=tles_for_asat(infile)\n",
    "test.set_period(\"2011-06-30 10:00:00\",\"2011-07-02 11:40:00\")\n",
    "test.calc_positions_between(\"2011-07-01 10:00:00\",\"2011-07-01 11:40:00\",1)\n",
    "test.export(\"../../test_data/output/test.kml\")"
   ]
  },
  {
   "cell_type": "code",
   "execution_count": 6,
   "id": "3f1a67e9",
   "metadata": {},
   "outputs": [
    {
     "name": "stderr",
     "output_type": "stream",
     "text": [
      "/mnt/c/Users/Nakata Kazuki/Documents/プログラム/2022/kn-general_analysis_tools/kn-general_analysis_tools/notebook/../knool/remote_sensing/satellite.py:68: FutureWarning: Passing method to DatetimeIndex.get_loc is deprecated and will raise in a future version. Use index.get_indexer([item], method=...) instead.\n",
      "  row1=df.loc[df.index==df.index.unique()[df.index.unique().get_loc(pd.to_datetime(mdt), method='nearest')]]\n"
     ]
    }
   ],
   "source": [
    "#create a kml file of a orbit line\n",
    "test.calc_positions_faster_between(\"2011-07-01 10:00:00\",\"2011-07-01 11:40:00\",1)\n",
    "test.export(\"../../test_data/output/test2.kml\")"
   ]
  },
  {
   "cell_type": "code",
   "execution_count": 7,
   "id": "6c70cf85",
   "metadata": {
    "scrolled": true
   },
   "outputs": [
    {
     "name": "stderr",
     "output_type": "stream",
     "text": [
      "/mnt/c/Users/Nakata Kazuki/Documents/プログラム/2022/kn-general_analysis_tools/kn-general_analysis_tools/notebook/../knool/remote_sensing/satellite.py:112: FutureWarning: Passing method to DatetimeIndex.get_loc is deprecated and will raise in a future version. Use index.get_indexer([item], method=...) instead.\n",
      "  row1=df.loc[df.index==df.index.unique()[df.index.unique().get_loc(pd.to_datetime(mdt), method='nearest')]]\n"
     ]
    }
   ],
   "source": [
    "#Creates a kml file of a polygon\n",
    "test.calc_buff_area_between(\"2011-07-01 10:00:00\",\"2011-07-01 11:40:00\",1,1000000,ori=\"right\")\n",
    "test.export(\"../../test_data/output/test3.kml\")"
   ]
  },
  {
   "cell_type": "code",
   "execution_count": 10,
   "id": "077e54fa",
   "metadata": {},
   "outputs": [
    {
     "name": "stdout",
     "output_type": "stream",
     "text": [
      "100 100 (100, 4, 2)\n"
     ]
    }
   ],
   "source": [
    "#Creates a kml file of a polygon\n",
    "test.calc_scene_areas(\"2011-07-01 10:00:00\",\"2011-07-01 11:40:00\",1,1000000,2,ori=\"right\")\n",
    "test.export(\"../../test_data/output/test4.kml\")"
   ]
  },
  {
   "cell_type": "code",
   "execution_count": 29,
   "id": "dfee04fb",
   "metadata": {
    "scrolled": true
   },
   "outputs": [
    {
     "name": "stdout",
     "output_type": "stream",
     "text": [
      "576 576 (576, 32, 2)\n",
      "18\n"
     ]
    },
    {
     "name": "stderr",
     "output_type": "stream",
     "text": [
      "ERROR 1: TopologyException: Input geom 0 is invalid: Self-intersection at or near point -158.47777732024781 50.175298353999814 0 at -158.47777732024781 50.175298353999814 0\n",
      "ERROR 1: TopologyException: Input geom 0 is invalid: Self-intersection at or near point 48.954272580095598 77.609960595231968 0 at 48.954272580095598 77.609960595231968 0\n",
      "ERROR 1: TopologyException: Input geom 0 is invalid: Self-intersection at or near point 145.86949362608823 66.202165423884665 0 at 145.86949362608823 66.202165423884665 0\n",
      "ERROR 1: TopologyException: Input geom 0 is invalid: Self-intersection at or near point 80.007895433903741 80.356767885044576 0 at 80.007895433903741 80.356767885044576 0\n",
      "ERROR 1: TopologyException: Input geom 0 is invalid: Self-intersection at or near point -122.13347032323975 84.49852475589573 0 at -122.13347032323975 84.49852475589573 0\n",
      "ERROR 1: TopologyException: Input geom 0 is invalid: Self-intersection at or near point 94.16195401236152 83.808240365857841 0 at 94.16195401236152 83.808240365857841 0\n",
      "ERROR 1: TopologyException: Input geom 0 is invalid: Self-intersection at or near point -151.18628625591356 61.865741149401877 0 at -151.18628625591356 61.865741149401877 0\n",
      "ERROR 1: TopologyException: Input geom 0 is invalid: Self-intersection at or near point -165.2247953925654 26.299878664244495 0 at -165.2247953925654 26.299878664244495 0\n",
      "ERROR 1: TopologyException: Input geom 0 is invalid: Self-intersection at or near point 156.87983738599632 52.777116094053547 0 at 156.87983738599632 52.777116094053547 0\n",
      "ERROR 1: TopologyException: Input geom 0 is invalid: Self-intersection at or near point 86.684647632710082 80.87971382670861 0 at 86.684647632710082 80.87971382670861 0\n",
      "ERROR 1: TopologyException: Input geom 0 is invalid: Self-intersection at or near point 57.734932993787517 81.660562901188669 0 at 57.734932993787517 81.660562901188669 0\n",
      "ERROR 1: TopologyException: Input geom 0 is invalid: Self-intersection at or near point 147.14638377483755 81.587134074794093 0 at 147.14638377483755 81.587134074794093 0\n",
      "ERROR 1: TopologyException: Input geom 0 is invalid: Self-intersection at or near point 102.70487345706033 80.111326835889841 0 at 102.70487345706033 80.111326835889841 0\n",
      "ERROR 1: TopologyException: Input geom 0 is invalid: Self-intersection at or near point 105.18569395039354 79.044318726322871 0 at 105.18569395039354 79.044318726322871 0\n",
      "ERROR 1: TopologyException: Input geom 0 is invalid: Self-intersection at or near point -103.84818042592048 83.712165571837573 0 at -103.84818042592048 83.712165571837573 0\n",
      "ERROR 1: TopologyException: Input geom 0 is invalid: Self-intersection at or near point 114.16357940067914 84.577948371688038 0 at 114.16357940067914 84.577948371688038 0\n",
      "ERROR 1: TopologyException: Input geom 0 is invalid: Self-intersection at or near point 56.581359051994404 78.616640844489297 0 at 56.581359051994404 78.616640844489297 0\n",
      "ERROR 1: TopologyException: Input geom 0 is invalid: Self-intersection at or near point 143.34823614237456 67.745372503365644 0 at 143.34823614237456 67.745372503365644 0\n",
      "ERROR 1: TopologyException: Input geom 0 is invalid: Self-intersection at or near point 110.32986439860608 77.070779471442151 0 at 110.32986439860608 77.070779471442151 0\n",
      "ERROR 1: TopologyException: Input geom 0 is invalid: Self-intersection at or near point 74.894159604126557 81.251977125078866 0 at 74.894159604126557 81.251977125078866 0\n",
      "ERROR 1: TopologyException: Input geom 0 is invalid: Self-intersection at or near point 47.27659544570129 81.634963795727856 0 at 47.27659544570129 81.634963795727856 0\n",
      "ERROR 1: TopologyException: Input geom 0 is invalid: Self-intersection at or near point 133.27017261999296 81.270812376514201 0 at 133.27017261999296 81.270812376514201 0\n",
      "ERROR 1: TopologyException: Input geom 0 is invalid: Self-intersection at or near point 73.176069788852018 76.699862236741481 0 at 73.176069788852018 76.699862236741481 0\n",
      "ERROR 1: TopologyException: Input geom 0 is invalid: Self-intersection at or near point -155.23138679865323 54.942261303588822 0 at -155.23138679865323 54.942261303588822 0\n",
      "ERROR 1: TopologyException: Input geom 0 is invalid: Self-intersection at or near point 32.178580087562196 69.212016598956211 0 at 32.178580087562196 69.212016598956211 0\n",
      "ERROR 1: TopologyException: Input geom 0 is invalid: Self-intersection at or near point 160.91800289849684 45.983035279469306 0 at 160.91800289849684 45.983035279469306 0\n",
      "ERROR 1: TopologyException: Input geom 0 is invalid: Self-intersection at or near point 63.683097715043303 81.533470121613149 0 at 63.683097715043303 81.533470121613149 0\n",
      "ERROR 1: TopologyException: Input geom 0 is invalid: Self-intersection at or near point 87.079204458937241 82.604471020831198 0 at 87.079204458937241 82.604471020831198 0\n",
      "ERROR 1: TopologyException: Input geom 0 is invalid: Self-intersection at or near point 160.01577132227118 47.998397166739466 0 at 160.01577132227118 47.998397166739466 0\n",
      "ERROR 1: TopologyException: Input geom 0 is invalid: Self-intersection at or near point 126.95018649859139 75.227807722121156 0 at 126.95018649859139 75.227807722121156 0\n",
      "ERROR 1: TopologyException: Input geom 0 is invalid: Self-intersection at or near point 91.663753092371181 80.273772545229349 0 at 91.663753092371181 80.273772545229349 0\n",
      "ERROR 1: TopologyException: Input geom 0 is invalid: Self-intersection at or near point 82.636490978238911 81.485619956310899 0 at 82.636490978238911 81.485619956310899 0\n",
      "ERROR 1: TopologyException: Input geom 0 is invalid: Self-intersection at or near point -99.996144580959836 79.580571437824062 0 at -99.996144580959836 79.580571437824062 0\n",
      "ERROR 1: TopologyException: Input geom 0 is invalid: Self-intersection at or near point 129.24397114634007 81.51617618457928 0 at 129.24397114634007 81.51617618457928 0\n",
      "ERROR 1: TopologyException: Input geom 0 is invalid: Self-intersection at or near point 51.454606738098931 72.663344203336138 0 at 51.454606738098931 72.663344203336138 0\n",
      "ERROR 1: TopologyException: Input geom 0 is invalid: Self-intersection at or near point -164.87920955309059 28.849977690545849 0 at -164.87920955309059 28.849977690545849 0\n",
      "ERROR 1: TopologyException: Input geom 0 is invalid: Self-intersection at or near point 31.723801104000341 74.826017853703803 0 at 31.723801104000341 74.826017853703803 0\n",
      "ERROR 1: TopologyException: Input geom 0 is invalid: Self-intersection at or near point 118.25672146535916 76.812259940792615 0 at 118.25672146535916 76.812259940792615 0\n",
      "ERROR 1: TopologyException: Input geom 0 is invalid: Self-intersection at or near point -115.7990358097872 84.486252149910413 0 at -115.7990358097872 84.486252149910413 0\n",
      "ERROR 1: TopologyException: Input geom 0 is invalid: Self-intersection at or near point 114.73728181194645 83.935393589180492 0 at 114.73728181194645 83.935393589180492 0\n",
      "ERROR 1: TopologyException: Input geom 0 is invalid: Self-intersection at or near point 65.588170303960382 80.739948545094393 0 at 65.588170303960382 80.739948545094393 0\n",
      "ERROR 1: TopologyException: Input geom 0 is invalid: Self-intersection at or near point 147.90934506327011 63.115384693397147 0 at 147.90934506327011 63.115384693397147 0\n",
      "ERROR 1: TopologyException: Input geom 0 is invalid: Self-intersection at or near point 115.01247939993583 76.060621342422877 0 at 115.01247939993583 76.060621342422877 0\n",
      "ERROR 1: TopologyException: Input geom 0 is invalid: Self-intersection at or near point 79.261387206001132 80.769687557941864 0 at 79.261387206001132 80.769687557941864 0\n",
      "ERROR 1: TopologyException: Input geom 0 is invalid: Self-intersection at or near point 50.16436383029842 81.646933118589146 0 at 50.16436383029842 81.646933118589146 0\n",
      "ERROR 1: TopologyException: Input geom 0 is invalid: Self-intersection at or near point 27.50676235200374 81.219014944166531 0 at 27.50676235200374 81.219014944166531 0\n",
      "ERROR 1: TopologyException: Input geom 0 is invalid: Self-intersection at or near point -118.05252086881579 76.119165068392974 0 at -118.05252086881579 76.119165068392974 0\n",
      "ERROR 1: TopologyException: Input geom 0 is invalid: Self-intersection at or near point 96.115257979714187 79.275164816797854 0 at 96.115257979714187 79.275164816797854 0\n",
      "ERROR 1: TopologyException: Input geom 0 is invalid: Self-intersection at or near point -116.9849566571656 83.902540531311885 0 at -116.9849566571656 83.902540531311885 0\n",
      "ERROR 1: TopologyException: Input geom 0 is invalid: Self-intersection at or near point 112.81180039391754 84.507549282594823 0 at 112.81180039391754 84.507549282594823 0\n",
      "ERROR 1: TopologyException: Input geom 0 is invalid: Self-intersection at or near point 42.750175626182248 75.038587161444951 0 at 42.750175626182248 75.038587161444951 0\n",
      "ERROR 1: TopologyException: Input geom 0 is invalid: Self-intersection at or near point 133.95552110849619 70.889385361205569 0 at 133.95552110849619 70.889385361205569 0\n",
      "ERROR 1: TopologyException: Input geom 0 is invalid: Self-intersection at or near point 67.558450362120098 81.166839119799747 0 at 67.558450362120098 81.166839119799747 0\n",
      "ERROR 1: TopologyException: Input geom 0 is invalid: Self-intersection at or near point 39.252661160362464 81.653366959918202 0 at 39.252661160362464 81.653366959918202 0\n",
      "ERROR 1: TopologyException: Input geom 0 is invalid: Self-intersection at or near point 103.5731384472778 79.361543755516024 0 at 103.5731384472778 79.361543755516024 0\n",
      "ERROR 1: TopologyException: Input geom 0 is invalid: Self-intersection at or near point -133.153361390507 72.085789119401909 0 at -133.153361390507 72.085789119401909 0\n",
      "ERROR 1: TopologyException: Input geom 0 is invalid: Self-intersection at or near point -162.61952042302354 37.298816679913685 0 at -162.61952042302354 37.298816679913685 0\n",
      "ERROR 1: TopologyException: Input geom 0 is invalid: Self-intersection at or near point 20.847718507632557 66.071405573715808 0 at 20.847718507632557 66.071405573715808 0\n",
      "ERROR 1: TopologyException: Input geom 0 is invalid: Self-intersection at or near point 128.05648511017617 74.557344514917673 0 at 128.05648511017617 74.557344514917673 0\n",
      "ERROR 1: TopologyException: Input geom 0 is invalid: Self-intersection at or near point 49.590426963132522 81.784794424560232 0 at 49.590426963132522 81.784794424560232 0\n",
      "ERROR 1: TopologyException: Input geom 0 is invalid: Self-intersection at or near point -66.233124080318703 81.571579774356749 0 at -66.233124080318703 81.571579774356749 0\n",
      "ERROR 1: TopologyException: Input geom 0 is invalid: Self-intersection at or near point 26.000201737011661 66.364150417056862 0 at 26.000201737011661 66.364150417056862 0\n",
      "ERROR 1: TopologyException: Input geom 0 is invalid: Self-intersection at or near point 151.24888564995163 61.921678272124957 0 at 151.24888564995163 61.921678272124957 0\n",
      "ERROR 1: TopologyException: Input geom 0 is invalid: Self-intersection at or near point -16.114441275627115 76.138932094823048 0 at -16.114441275627115 76.138932094823048 0\n",
      "ERROR 1: TopologyException: Input geom 0 is invalid: Self-intersection at or near point 84.384960979391636 80.13124578519637 0 at 84.384960979391636 80.13124578519637 0\n",
      "ERROR 1: TopologyException: Input geom 0 is invalid: Self-intersection at or near point -50.402924283108518 81.627804808229826 0 at -50.402924283108518 81.627804808229826 0\n",
      "ERROR 1: TopologyException: Input geom 0 is invalid: Self-intersection at or near point -113.34849697328971 77.1312653772777 0 at -113.34849697328971 77.1312653772777 0\n",
      "ERROR 1: TopologyException: Input geom 0 is invalid: Self-intersection at or near point 97.379167300944204 79.947136288116013 0 at 97.379167300944204 79.947136288116013 0\n"
     ]
    }
   ],
   "source": [
    "shpfile=r\"../../test_data/matchup/AOI.shp\"\n",
    "result,result2 = test.calc_intersect_scene_areas(\"2011-07-01 0:00:00\",\"2011-07-07 00:00:00\",1,1450000,16,shpfile,ori=\"right\")\n",
    "print(len(result[0]))\n",
    "test.export(r\"../../test_data/output/test5.shp\",option=0)\n",
    "test.output=result2\n",
    "test.export(r\"../../test_data/output/test6.shp\",option=0)\n"
   ]
  },
  {
   "cell_type": "code",
   "execution_count": null,
   "id": "6e5cd309",
   "metadata": {},
   "outputs": [],
   "source": []
  },
  {
   "cell_type": "code",
   "execution_count": null,
   "id": "37b0a7ca",
   "metadata": {},
   "outputs": [],
   "source": []
  },
  {
   "cell_type": "code",
   "execution_count": null,
   "id": "f247547a",
   "metadata": {},
   "outputs": [],
   "source": []
  }
 ],
 "metadata": {
  "interpreter": {
   "hash": "790334f31a4d2b12dc852e6507079b12c63ad7e3b5b983f2779759fa8e822837"
  },
  "kernelspec": {
   "display_name": "Python 3.9.12 ('base2')",
   "language": "python",
   "name": "python3"
  },
  "language_info": {
   "codemirror_mode": {
    "name": "ipython",
    "version": 3
   },
   "file_extension": ".py",
   "mimetype": "text/x-python",
   "name": "python",
   "nbconvert_exporter": "python",
   "pygments_lexer": "ipython3",
   "version": "3.9.12"
  }
 },
 "nbformat": 4,
 "nbformat_minor": 5
}
