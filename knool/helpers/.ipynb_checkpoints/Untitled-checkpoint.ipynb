{
 "cells": [
  {
   "cell_type": "code",
   "execution_count": 4,
   "metadata": {},
   "outputs": [
    {
     "name": "stdout",
     "output_type": "stream",
     "text": [
      "<function testtest at 0x7f40a92d3b00>\n",
      "['testtest']\n",
      "hi\n",
      "['__all__', '__builtins__', '__cached__', '__doc__', '__file__', '__loader__', '__name__', '__package__', '__spec__', 'dec2', 'print_time', 'testtest', 'time']\n",
      "<function print_time at 0x7f40a92ecd40>\n"
     ]
    }
   ],
   "source": [
    "#%%\n",
    "import decorators\n",
    "import dec2\n",
    "\n",
    "print(decorators.testtest)\n",
    "# %%\n",
    "print(decorators.__all__)\n",
    "print('hi')\n",
    "print(dir(decorators))\n",
    "print(decorators.print_time)\n",
    "#print(decorators.time)\n",
    "# %%\n"
   ]
  },
  {
   "cell_type": "code",
   "execution_count": null,
   "metadata": {},
   "outputs": [],
   "source": []
  }
 ],
 "metadata": {
  "kernelspec": {
   "display_name": "Python 3",
   "language": "python",
   "name": "python3"
  },
  "language_info": {
   "codemirror_mode": {
    "name": "ipython",
    "version": 3
   },
   "file_extension": ".py",
   "mimetype": "text/x-python",
   "name": "python",
   "nbconvert_exporter": "python",
   "pygments_lexer": "ipython3",
   "version": "3.7.7"
  }
 },
 "nbformat": 4,
 "nbformat_minor": 4
}
